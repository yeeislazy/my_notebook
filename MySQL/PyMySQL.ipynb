{
 "cells": [
  {
   "cell_type": "markdown",
   "id": "52968c62",
   "metadata": {},
   "source": [
    "# PyMySQL"
   ]
  },
  {
   "cell_type": "code",
   "execution_count": 12,
   "id": "6f1f1ba6",
   "metadata": {},
   "outputs": [],
   "source": [
    "import pymysql\n",
    "import pandas as pd"
   ]
  },
  {
   "cell_type": "markdown",
   "id": "32bbfced",
   "metadata": {},
   "source": [
    "## connect to MySQL database\n",
    "`pymysql.connect(host='localhost', user='yourusername', password='yourpassword', database='yourdatabase')`"
   ]
  },
  {
   "cell_type": "code",
   "execution_count": null,
   "id": "9c3d0cc5",
   "metadata": {},
   "outputs": [
    {
     "name": "stdout",
     "output_type": "stream",
     "text": [
      "Connected to MySQL database\n"
     ]
    }
   ],
   "source": [
    "# basic connection example\n",
    "connection = pymysql.connect(\n",
    "    host='localhost',\n",
    "    user='root',\n",
    "    password='Lion980601016101',\n",
    "    database='test'\n",
    ")\n",
    "print(\"Connected to MySQL database\")\n",
    "connection.close()   # close the connection"
   ]
  },
  {
   "cell_type": "code",
   "execution_count": 3,
   "id": "78ea1e58",
   "metadata": {},
   "outputs": [
    {
     "name": "stdout",
     "output_type": "stream",
     "text": [
      "Connected to MySQL database\n"
     ]
    }
   ],
   "source": [
    "# with try-except for error handling\n",
    "try:\n",
    "    connection = pymysql.connect(\n",
    "        host='localhost',\n",
    "        user='root',\n",
    "        password='Lion980601016101',\n",
    "        database='test'\n",
    "    )\n",
    "    print(\"Connected to MySQL database\")\n",
    "except pymysql.MySQLError as e:\n",
    "    print(f\"Error connecting to MySQL database: {e}\")\n",
    "\n",
    "connection.close()   # close the connection"
   ]
  },
  {
   "cell_type": "code",
   "execution_count": 4,
   "id": "5f92dba8",
   "metadata": {},
   "outputs": [
    {
     "name": "stdout",
     "output_type": "stream",
     "text": [
      "Connected to MySQL database\n"
     ]
    }
   ],
   "source": [
    "# with context manager\n",
    "with pymysql.connect(\n",
    "    host='localhost',\n",
    "    user='root',\n",
    "    password='Lion980601016101',\n",
    "    database='test'\n",
    ") as connection:\n",
    "    print(\"Connected to MySQL database\")\n",
    "# connection is automatically closed when exiting the block"
   ]
  },
  {
   "cell_type": "code",
   "execution_count": 21,
   "id": "e144a8b2",
   "metadata": {},
   "outputs": [],
   "source": [
    "# defining a function to connect and for further use\n",
    "def run_mysql(db_name, command = None):\n",
    "    try:\n",
    "        connection = pymysql.connect(\n",
    "            host='localhost',\n",
    "            user='root',\n",
    "            passwd='Lion980601016101',\n",
    "            db=db_name\n",
    "        )\n",
    "        print(f\"Connected to MySQL database: {db_name}\")\n",
    "        cursor = command(connection)\n",
    "        connection.close()\n",
    "        return cursor\n",
    "        \n",
    "    except pymysql.MySQLError as e:\n",
    "        print(f\"Error connecting to MySQL database: {e}\")\n",
    "        return None"
   ]
  },
  {
   "cell_type": "markdown",
   "id": "fd356099",
   "metadata": {},
   "source": [
    "## Execute MySQL Commands"
   ]
  },
  {
   "cell_type": "code",
   "execution_count": 20,
   "id": "2fb2039a",
   "metadata": {},
   "outputs": [
    {
     "name": "stdout",
     "output_type": "stream",
     "text": [
      "Connected to MySQL database: test\n",
      "Database 'test' is now in use\n"
     ]
    }
   ],
   "source": [
    "# use connection.cursor().execute() to run SQL commands\n",
    "# for example, use database 'test'\n",
    "def use_db(connection):\n",
    "    cursor = connection.cursor()\n",
    "    cursor.execute(\"USE test;\")\n",
    "    print(\"Database 'test' is now in use\")\n",
    "\n",
    "run_mysql('test', use_db)"
   ]
  },
  {
   "cell_type": "markdown",
   "id": "fecdf870",
   "metadata": {},
   "source": [
    "## Recieve .execute() returns\n",
    "- Use `cursor.fetchall()` to get all rows returned by the query.\n",
    "- Use `cursor.fetchone()` to get the next row returned by the query.\n",
    "- Use `cursor.rowcount` to get the number of rows affected by the last operation, used for check the number of rows effected by management statements, such as `INSERT`, `UPDATE`, or `DELETE` statements.\n",
    "- Use `cursor.description` to get the column names and types of the last query. return a list of tuples, (`name`, `type_code`, `display_size`, `internal_size`, `precision`, `scale`, `null_ok`).\n",
    "\n",
    "Description elements:  \n",
    "\n",
    "|Element|Description|\n",
    "|---|---|\n",
    "|`name`|The name of the column.|\n",
    "|`type_code`|The type code of the column.|\n",
    "|`display_size`|The display size of the column.|\n",
    "|`internal_size`|The internal size of the column.|\n",
    "|`precision`|The precision of the column.|\n",
    "|`scale`|The scale of the column.|\n",
    "|`null_ok`|Indicates whether the column can contain NULL values.|"
   ]
  },
  {
   "cell_type": "code",
   "execution_count": 23,
   "id": "2de36f64",
   "metadata": {},
   "outputs": [
    {
     "name": "stdout",
     "output_type": "stream",
     "text": [
      "Connected to MySQL database: test\n",
      "((1, '金庸', 66, '总裁', 20000, datetime.date(2000, 1, 1), None, 5), (2, '张无忌', 20, '项目经理', 0, datetime.date(2005, 12, 5), 1, 1), (3, '杨逍', 33, '开发', 8400, datetime.date(2000, 11, 3), 2, 1), (4, '韦一笑', 48, '开发', 11000, datetime.date(2002, 2, 5), 2, 1), (5, '常遇春', 43, '开发', 10500, datetime.date(2004, 9, 7), 3, 1), (6, '小昭', 19, '程序员鼓励师', 6600, datetime.date(2004, 10, 12), 2, 1), (7, '灭绝', 60, '财务总监', 8500, datetime.date(2002, 9, 12), 1, 3), (8, '周芷若', 19, '会计', 4800, datetime.date(2006, 6, 2), 7, 3), (9, '丁敏君', 23, '出纳', 5250, datetime.date(2009, 5, 12), 7, 3), (10, '赵敏', 20, '市场部总监', 12500, datetime.date(2002, 2, 5), 1, 2), (11, '鹿杖客', 56, '职员', 3750, datetime.date(2006, 12, 5), 10, 2), (12, '鹤笔翁', 19, '职员', 3750, datetime.date(2006, 5, 25), 10, 2), (13, '方东白', 19, '职员', 5500, datetime.date(2002, 11, 5), 10, 2), (14, '张三丰', 88, '销售总监', 14000, datetime.date(2003, 6, 15), 1, 4), (15, '俞莲舟', 38, '销售', 4600, datetime.date(2003, 7, 5), 14, 4), (16, '宋远桥', 40, '销售', 4600, datetime.date(2004, 9, 18), 14, 4), (17, '陈友谅', 42, None, 2000, datetime.date(2010, 6, 16), 1, None))\n"
     ]
    }
   ],
   "source": [
    "## .fatchall()\n",
    "def query_db(connection):\n",
    "    cursor = connection.cursor()\n",
    "    cursor.execute(\"SELECT * FROM emp;\")\n",
    "    return cursor\n",
    "\n",
    "cursor = run_mysql('test', query_db)\n",
    "result = cursor.fetchall()\n",
    "print(result)"
   ]
  },
  {
   "cell_type": "code",
   "execution_count": 24,
   "id": "0f1a8d03",
   "metadata": {},
   "outputs": [
    {
     "name": "stdout",
     "output_type": "stream",
     "text": [
      "(('id', 3, None, 11, 11, 0, False), ('name', 253, None, 200, 200, 0, False), ('age', 3, None, 11, 11, 0, True), ('job', 253, None, 80, 80, 0, True), ('salary', 3, None, 11, 11, 0, True), ('enterdate', 10, None, 10, 10, 0, True), ('managerid', 3, None, 11, 11, 0, True), ('dept_id', 3, None, 11, 11, 0, True))\n"
     ]
    }
   ],
   "source": [
    "description = cursor.description\n",
    "print(description)"
   ]
  },
  {
   "cell_type": "code",
   "execution_count": 25,
   "id": "dd023634",
   "metadata": {},
   "outputs": [
    {
     "name": "stdout",
     "output_type": "stream",
     "text": [
      "['id', 'name', 'age', 'job', 'salary', 'enterdate', 'managerid', 'dept_id']\n"
     ]
    }
   ],
   "source": [
    "# extract field names\n",
    "field_names = [desc[0] for desc in description]\n",
    "print(field_names)"
   ]
  },
  {
   "cell_type": "code",
   "execution_count": 26,
   "id": "8edca5a2",
   "metadata": {},
   "outputs": [
    {
     "data": {
      "text/html": [
       "<div>\n",
       "<style scoped>\n",
       "    .dataframe tbody tr th:only-of-type {\n",
       "        vertical-align: middle;\n",
       "    }\n",
       "\n",
       "    .dataframe tbody tr th {\n",
       "        vertical-align: top;\n",
       "    }\n",
       "\n",
       "    .dataframe thead th {\n",
       "        text-align: right;\n",
       "    }\n",
       "</style>\n",
       "<table border=\"1\" class=\"dataframe\">\n",
       "  <thead>\n",
       "    <tr style=\"text-align: right;\">\n",
       "      <th></th>\n",
       "      <th>id</th>\n",
       "      <th>name</th>\n",
       "      <th>age</th>\n",
       "      <th>job</th>\n",
       "      <th>salary</th>\n",
       "      <th>enterdate</th>\n",
       "      <th>managerid</th>\n",
       "      <th>dept_id</th>\n",
       "    </tr>\n",
       "  </thead>\n",
       "  <tbody>\n",
       "    <tr>\n",
       "      <th>0</th>\n",
       "      <td>1</td>\n",
       "      <td>金庸</td>\n",
       "      <td>66</td>\n",
       "      <td>总裁</td>\n",
       "      <td>20000</td>\n",
       "      <td>2000-01-01</td>\n",
       "      <td>NaN</td>\n",
       "      <td>5.0</td>\n",
       "    </tr>\n",
       "    <tr>\n",
       "      <th>1</th>\n",
       "      <td>2</td>\n",
       "      <td>张无忌</td>\n",
       "      <td>20</td>\n",
       "      <td>项目经理</td>\n",
       "      <td>0</td>\n",
       "      <td>2005-12-05</td>\n",
       "      <td>1.0</td>\n",
       "      <td>1.0</td>\n",
       "    </tr>\n",
       "    <tr>\n",
       "      <th>2</th>\n",
       "      <td>3</td>\n",
       "      <td>杨逍</td>\n",
       "      <td>33</td>\n",
       "      <td>开发</td>\n",
       "      <td>8400</td>\n",
       "      <td>2000-11-03</td>\n",
       "      <td>2.0</td>\n",
       "      <td>1.0</td>\n",
       "    </tr>\n",
       "    <tr>\n",
       "      <th>3</th>\n",
       "      <td>4</td>\n",
       "      <td>韦一笑</td>\n",
       "      <td>48</td>\n",
       "      <td>开发</td>\n",
       "      <td>11000</td>\n",
       "      <td>2002-02-05</td>\n",
       "      <td>2.0</td>\n",
       "      <td>1.0</td>\n",
       "    </tr>\n",
       "    <tr>\n",
       "      <th>4</th>\n",
       "      <td>5</td>\n",
       "      <td>常遇春</td>\n",
       "      <td>43</td>\n",
       "      <td>开发</td>\n",
       "      <td>10500</td>\n",
       "      <td>2004-09-07</td>\n",
       "      <td>3.0</td>\n",
       "      <td>1.0</td>\n",
       "    </tr>\n",
       "    <tr>\n",
       "      <th>5</th>\n",
       "      <td>6</td>\n",
       "      <td>小昭</td>\n",
       "      <td>19</td>\n",
       "      <td>程序员鼓励师</td>\n",
       "      <td>6600</td>\n",
       "      <td>2004-10-12</td>\n",
       "      <td>2.0</td>\n",
       "      <td>1.0</td>\n",
       "    </tr>\n",
       "    <tr>\n",
       "      <th>6</th>\n",
       "      <td>7</td>\n",
       "      <td>灭绝</td>\n",
       "      <td>60</td>\n",
       "      <td>财务总监</td>\n",
       "      <td>8500</td>\n",
       "      <td>2002-09-12</td>\n",
       "      <td>1.0</td>\n",
       "      <td>3.0</td>\n",
       "    </tr>\n",
       "    <tr>\n",
       "      <th>7</th>\n",
       "      <td>8</td>\n",
       "      <td>周芷若</td>\n",
       "      <td>19</td>\n",
       "      <td>会计</td>\n",
       "      <td>4800</td>\n",
       "      <td>2006-06-02</td>\n",
       "      <td>7.0</td>\n",
       "      <td>3.0</td>\n",
       "    </tr>\n",
       "    <tr>\n",
       "      <th>8</th>\n",
       "      <td>9</td>\n",
       "      <td>丁敏君</td>\n",
       "      <td>23</td>\n",
       "      <td>出纳</td>\n",
       "      <td>5250</td>\n",
       "      <td>2009-05-12</td>\n",
       "      <td>7.0</td>\n",
       "      <td>3.0</td>\n",
       "    </tr>\n",
       "    <tr>\n",
       "      <th>9</th>\n",
       "      <td>10</td>\n",
       "      <td>赵敏</td>\n",
       "      <td>20</td>\n",
       "      <td>市场部总监</td>\n",
       "      <td>12500</td>\n",
       "      <td>2002-02-05</td>\n",
       "      <td>1.0</td>\n",
       "      <td>2.0</td>\n",
       "    </tr>\n",
       "    <tr>\n",
       "      <th>10</th>\n",
       "      <td>11</td>\n",
       "      <td>鹿杖客</td>\n",
       "      <td>56</td>\n",
       "      <td>职员</td>\n",
       "      <td>3750</td>\n",
       "      <td>2006-12-05</td>\n",
       "      <td>10.0</td>\n",
       "      <td>2.0</td>\n",
       "    </tr>\n",
       "    <tr>\n",
       "      <th>11</th>\n",
       "      <td>12</td>\n",
       "      <td>鹤笔翁</td>\n",
       "      <td>19</td>\n",
       "      <td>职员</td>\n",
       "      <td>3750</td>\n",
       "      <td>2006-05-25</td>\n",
       "      <td>10.0</td>\n",
       "      <td>2.0</td>\n",
       "    </tr>\n",
       "    <tr>\n",
       "      <th>12</th>\n",
       "      <td>13</td>\n",
       "      <td>方东白</td>\n",
       "      <td>19</td>\n",
       "      <td>职员</td>\n",
       "      <td>5500</td>\n",
       "      <td>2002-11-05</td>\n",
       "      <td>10.0</td>\n",
       "      <td>2.0</td>\n",
       "    </tr>\n",
       "    <tr>\n",
       "      <th>13</th>\n",
       "      <td>14</td>\n",
       "      <td>张三丰</td>\n",
       "      <td>88</td>\n",
       "      <td>销售总监</td>\n",
       "      <td>14000</td>\n",
       "      <td>2003-06-15</td>\n",
       "      <td>1.0</td>\n",
       "      <td>4.0</td>\n",
       "    </tr>\n",
       "    <tr>\n",
       "      <th>14</th>\n",
       "      <td>15</td>\n",
       "      <td>俞莲舟</td>\n",
       "      <td>38</td>\n",
       "      <td>销售</td>\n",
       "      <td>4600</td>\n",
       "      <td>2003-07-05</td>\n",
       "      <td>14.0</td>\n",
       "      <td>4.0</td>\n",
       "    </tr>\n",
       "    <tr>\n",
       "      <th>15</th>\n",
       "      <td>16</td>\n",
       "      <td>宋远桥</td>\n",
       "      <td>40</td>\n",
       "      <td>销售</td>\n",
       "      <td>4600</td>\n",
       "      <td>2004-09-18</td>\n",
       "      <td>14.0</td>\n",
       "      <td>4.0</td>\n",
       "    </tr>\n",
       "    <tr>\n",
       "      <th>16</th>\n",
       "      <td>17</td>\n",
       "      <td>陈友谅</td>\n",
       "      <td>42</td>\n",
       "      <td>None</td>\n",
       "      <td>2000</td>\n",
       "      <td>2010-06-16</td>\n",
       "      <td>1.0</td>\n",
       "      <td>NaN</td>\n",
       "    </tr>\n",
       "  </tbody>\n",
       "</table>\n",
       "</div>"
      ],
      "text/plain": [
       "    id name  age     job  salary   enterdate  managerid  dept_id\n",
       "0    1   金庸   66      总裁   20000  2000-01-01        NaN      5.0\n",
       "1    2  张无忌   20    项目经理       0  2005-12-05        1.0      1.0\n",
       "2    3   杨逍   33      开发    8400  2000-11-03        2.0      1.0\n",
       "3    4  韦一笑   48      开发   11000  2002-02-05        2.0      1.0\n",
       "4    5  常遇春   43      开发   10500  2004-09-07        3.0      1.0\n",
       "5    6   小昭   19  程序员鼓励师    6600  2004-10-12        2.0      1.0\n",
       "6    7   灭绝   60    财务总监    8500  2002-09-12        1.0      3.0\n",
       "7    8  周芷若   19      会计    4800  2006-06-02        7.0      3.0\n",
       "8    9  丁敏君   23      出纳    5250  2009-05-12        7.0      3.0\n",
       "9   10   赵敏   20   市场部总监   12500  2002-02-05        1.0      2.0\n",
       "10  11  鹿杖客   56      职员    3750  2006-12-05       10.0      2.0\n",
       "11  12  鹤笔翁   19      职员    3750  2006-05-25       10.0      2.0\n",
       "12  13  方东白   19      职员    5500  2002-11-05       10.0      2.0\n",
       "13  14  张三丰   88    销售总监   14000  2003-06-15        1.0      4.0\n",
       "14  15  俞莲舟   38      销售    4600  2003-07-05       14.0      4.0\n",
       "15  16  宋远桥   40      销售    4600  2004-09-18       14.0      4.0\n",
       "16  17  陈友谅   42    None    2000  2010-06-16        1.0      NaN"
      ]
     },
     "execution_count": 26,
     "metadata": {},
     "output_type": "execute_result"
    }
   ],
   "source": [
    "# combine results into a DataFrame\n",
    "df = pd.DataFrame(result, columns=field_names)\n",
    "df"
   ]
  },
  {
   "cell_type": "code",
   "execution_count": 29,
   "id": "b5c8385d",
   "metadata": {},
   "outputs": [
    {
     "name": "stdout",
     "output_type": "stream",
     "text": [
      "Connected to MySQL database: test\n",
      "Data inserted successfully\n",
      "1 record inserted.\n"
     ]
    }
   ],
   "source": [
    "def insert_data(connection):\n",
    "    cursor = connection.cursor()\n",
    "    cursor.execute(\"INSERT INTO emp (name, age,job,salary,enterdate) VALUES ('张三', 30,'职员',3000,'2022-07-19');\")\n",
    "    connection.commit()  # commit the changes\n",
    "    print(\"Data inserted successfully\")\n",
    "    return cursor\n",
    "\n",
    "cursor = run_mysql('test', insert_data)\n",
    "print(cursor.rowcount, \"record inserted.\")"
   ]
  }
 ],
 "metadata": {
  "kernelspec": {
   "display_name": "data",
   "language": "python",
   "name": "python3"
  },
  "language_info": {
   "codemirror_mode": {
    "name": "ipython",
    "version": 3
   },
   "file_extension": ".py",
   "mimetype": "text/x-python",
   "name": "python",
   "nbconvert_exporter": "python",
   "pygments_lexer": "ipython3",
   "version": "3.10.18"
  }
 },
 "nbformat": 4,
 "nbformat_minor": 5
}
