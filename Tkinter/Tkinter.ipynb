{
 "cells": [
  {
   "cell_type": "code",
   "execution_count": 8,
   "metadata": {},
   "outputs": [],
   "source": [
    "import tkinter as tk\n",
    "from tkinter import ttk\n",
    "from tkinter import messagebox as msg"
   ]
  },
  {
   "cell_type": "markdown",
   "metadata": {},
   "source": [
    "# Window control"
   ]
  },
  {
   "cell_type": "markdown",
   "metadata": {},
   "source": [
    "## Create window\n",
    "`tk.Tk()`"
   ]
  },
  {
   "cell_type": "code",
   "execution_count": null,
   "metadata": {},
   "outputs": [],
   "source": [
    "win = tk.Tk()"
   ]
  },
  {
   "cell_type": "markdown",
   "metadata": {},
   "source": [
    "## Open window / main loop\n",
    "`Tk.mainloop()`"
   ]
  },
  {
   "cell_type": "code",
   "execution_count": null,
   "metadata": {},
   "outputs": [],
   "source": [
    "win.mainloop()"
   ]
  },
  {
   "cell_type": "markdown",
   "metadata": {},
   "source": [
    "## Title of window\n",
    "`Tk.title(string)`"
   ]
  },
  {
   "cell_type": "code",
   "execution_count": null,
   "metadata": {},
   "outputs": [],
   "source": [
    "win = tk.Tk()\n",
    "win.title('Tkinter learning')\n",
    "win.mainloop()"
   ]
  },
  {
   "cell_type": "markdown",
   "metadata": {},
   "source": [
    "## Window size and location\n",
    "`Tk.geometry(newGeometry)`  \n",
    "\n",
    "newGeometry : type = str , format -> '`width`x`height`+`xlocation`+`ylocation`'"
   ]
  },
  {
   "cell_type": "code",
   "execution_count": 9,
   "metadata": {},
   "outputs": [],
   "source": [
    "win = tk.Tk()\n",
    "win.geometry('300x200+200+200')\n",
    "win.mainloop()"
   ]
  },
  {
   "cell_type": "markdown",
   "metadata": {},
   "source": [
    "## Aquire desktop resolution\n",
    "`Tk.maxsize()`"
   ]
  },
  {
   "cell_type": "code",
   "execution_count": 10,
   "metadata": {},
   "outputs": [
    {
     "name": "stdout",
     "output_type": "stream",
     "text": [
      "(1920, 1080)\n"
     ]
    }
   ],
   "source": [
    "win = tk.Tk()\n",
    "resol = win.maxsize()\n",
    "print(resol)"
   ]
  },
  {
   "cell_type": "code",
   "execution_count": 20,
   "metadata": {},
   "outputs": [],
   "source": [
    "# let window located at the center of desktop\n",
    "win = tk.Tk()\n",
    "resol = win.maxsize()\n",
    "locat = [x / 2 - 150 for x in resol]\n",
    "win.geometry(f'300x300+{locat[0]:.0f}+{locat[1]:.0f}')\n",
    "win.mainloop()"
   ]
  },
  {
   "cell_type": "markdown",
   "metadata": {},
   "source": [
    "## Fix window width and height\n",
    "`Tk.resizable(width = True, height = True)`"
   ]
  },
  {
   "cell_type": "code",
   "execution_count": 6,
   "metadata": {},
   "outputs": [
    {
     "name": "stderr",
     "output_type": "stream",
     "text": [
      "2025-03-22 12:52:49.623 python[40358:1357806] IMKClient Stall detected, *please Report* your user scenario attaching a spindump (or sysdiagnose) that captures the problem - (imkxpc_bundleIdentifierWithReply:) block performed very slowly (31.10 secs).\n"
     ]
    }
   ],
   "source": [
    "win = tk.Tk()\n",
    "\n",
    "resol = win.maxsize()\n",
    "locat = [x / 2 - 150 for x in resol]\n",
    "win.geometry(f'300x300+{locat[0]:.0f}+{locat[1]:.0f}')\n",
    "\n",
    "win.resizable(False,False)\n",
    "win.mainloop()"
   ]
  },
  {
   "cell_type": "markdown",
   "metadata": {},
   "source": [
    "## Set window icon"
   ]
  },
  {
   "cell_type": "markdown",
   "metadata": {},
   "source": [
    "### `Tk.iconbitmap(bitmap:any = None, default:any = None)`\n",
    "\n",
    "default : str of the icon path, icon file have to be .ico"
   ]
  },
  {
   "cell_type": "code",
   "execution_count": 3,
   "metadata": {},
   "outputs": [],
   "source": [
    "win = tk.Tk()\n",
    "win.iconbitmap('bird_icon.ico')\n",
    "win.mainloop()"
   ]
  },
  {
   "cell_type": "markdown",
   "metadata": {},
   "source": [
    "## Window background colour\n",
    "`Tk.configure(bg:str = None)`  \n",
    "bg : type = str , input the colour of background"
   ]
  },
  {
   "cell_type": "code",
   "execution_count": 2,
   "metadata": {},
   "outputs": [],
   "source": [
    "win = tk.Tk()\n",
    "win.configure(bg = 'yellow')\n",
    "win.mainloop()"
   ]
  },
  {
   "cell_type": "markdown",
   "metadata": {},
   "source": [
    "## Window transparency\n",
    "`Tk.attributes('-alpha',0-1)`"
   ]
  },
  {
   "cell_type": "code",
   "execution_count": 3,
   "metadata": {},
   "outputs": [],
   "source": [
    "win = tk.Tk()\n",
    "win.attributes('-alpha',0.5)\n",
    "win.mainloop()"
   ]
  },
  {
   "cell_type": "markdown",
   "metadata": {},
   "source": [
    "## Window on top\n",
    "`Tk.attributes('-topmost',True)`"
   ]
  },
  {
   "cell_type": "code",
   "execution_count": 4,
   "metadata": {},
   "outputs": [],
   "source": [
    "win = tk.Tk()\n",
    "win.attributes('-topmost',True)\n",
    "win.mainloop()"
   ]
  },
  {
   "cell_type": "markdown",
   "metadata": {},
   "source": [
    "## Close window\n",
    "`Tk.destroy()`"
   ]
  },
  {
   "cell_type": "code",
   "execution_count": null,
   "metadata": {},
   "outputs": [],
   "source": [
    "win = tk.Tk()\n",
    "button = tk.Button(win,text='close window',command= win.destroy).grid()\n",
    "win.mainloop()"
   ]
  },
  {
   "cell_type": "markdown",
   "metadata": {},
   "source": [
    "## Function execute when window close button clicked\n",
    "`Tk.protocol('WM_DELETE_WINDOW',funtion())`"
   ]
  },
  {
   "cell_type": "code",
   "execution_count": 5,
   "metadata": {},
   "outputs": [
    {
     "name": "stdout",
     "output_type": "stream",
     "text": [
      "window closed\n"
     ]
    }
   ],
   "source": [
    "def close():\n",
    "    win.destroy()\n",
    "    print('window closed')\n",
    "win = tk.Tk()\n",
    "win.protocol('WM_DELETE_WINDOW',close)\n",
    "win.mainloop()"
   ]
  },
  {
   "cell_type": "markdown",
   "metadata": {},
   "source": [
    "# Widgets"
   ]
  },
  {
   "cell_type": "markdown",
   "metadata": {},
   "source": [
    "## Layout"
   ]
  },
  {
   "cell_type": "markdown",
   "metadata": {},
   "source": [
    "### `Widget.pack()`\n",
    "Use default layout"
   ]
  },
  {
   "cell_type": "code",
   "execution_count": 47,
   "metadata": {},
   "outputs": [],
   "source": [
    "win = tk.Tk()\n",
    "button = ttk.Button(win,text='close window',command= win.destroy)\n",
    "button.pack()\n",
    "win.mainloop()"
   ]
  },
  {
   "cell_type": "markdown",
   "metadata": {},
   "source": [
    "### `Widget.place()`\n",
    "\n",
    "| Parameter | Type | Description | Example |\n",
    "|--------------|---------|----------------|-------------|\n",
    "| `x` | `int` | Absolute horizontal position (in pixels) from the left of the parent widget. | `x=50` |\n",
    "| `y` | `int` | Absolute vertical position (in pixels) from the top of the parent widget. | `y=100` |\n",
    "| `relx` | `float` | Relative horizontal position (0.0 to 1.0) based on the width of the parent widget. | `relx=0.5` (centered horizontally) |\n",
    "| `rely` | `float` | Relative vertical position (0.0 to 1.0) based on the height of the parent widget. | `rely=0.5` (centered vertically) |\n",
    "| `anchor` | `str` | Specifies which part of the widget is placed at (`x`, `y`) or (`relx`, `rely`). Options: `\"nw\"`, `\"n\"`, `\"ne\"`, `\"w\"`, `\"center\"`, `\"e\"`, `\"sw\"`, `\"s\"`, `\"se\"`. <br><table>  <thead>  <tr>  <th>Value</th>  <th>Description</th>  <th>Position</th>  </tr>  </thead> <tbody>  <tr>  <td>`n`</td>  <td>North (Top-center)</td>  <td>⬆️ Top</td>  </tr>  <tr>  <td>`s`</td>  <td>South (Bottom-center)</td>  <td>⬇️ Bottom</td>  </tr>  <tr>  <td>`e`</td>  <td>East (Right-center)</td>  <td>➡️ Right</td>  </tr> <tr>  <td>`w`</td>  <td>West (Left-center)</td>  <td>⬅️ Left</td>  </tr> </tr> <tr>  <td>`ne`</td>  <td>North-East (Top-right)</td>  <td>↗️ Top-right</td>  </tr> <tr>  <td>`nw`</td>  <td>North-West (Top-left)</td>  <td>↖️ Top-left</td>  </tr><tr>  <td>`se`</td>  <td>South-East (Bottom-right)</td>  <td>↘️ Bottom-right</td>  </tr><tr>  <td>`sw`</td>  <td>South-West (Bottom-left)</td>  <td>↙️ Bottom-left</td>  </tr><tr>  <td>`center`</td>  <td>Center (Default)</td>  <td>⭕ Center</td>  </tr></tbody>  </table>  | `anchor=\"center\"` (places the widget's center at the position) |\n",
    "| `width` | `int` | Sets a fixed width for the widget (in pixels). | `width=150` |\n",
    "| `height` | `int` | Sets a fixed height for the widget (in pixels). | `height=50` |\n",
    "| `bordermode` | `\"inside\"` or `\"outside\"` | Defines whether the position should include/exclude the parent's border width. | `bordermode=\"inside\"` (default) |"
   ]
  },
  {
   "cell_type": "code",
   "execution_count": 48,
   "metadata": {},
   "outputs": [],
   "source": [
    "win = tk.Tk()\n",
    "button = ttk.Button(win,text='close window',command= win.destroy)\n",
    "button.place(anchor='center',relx=0.5,rely=0.5)\n",
    "win.mainloop()"
   ]
  },
  {
   "cell_type": "markdown",
   "metadata": {},
   "source": [
    "### Widget.grid(row=,column=)\n",
    "| **Parameter**  | **Description** |\n",
    "|--------------|----------------|\n",
    "| `row`       | Specifies the row index (starts from `0`) |\n",
    "| `column`    | Specifies the column index (starts from `0`) |\n",
    "| `sticky`    | Controls widget alignment inside the cell<br><table>  <thead>  <tr>  <th>**Value**</th><th>**Effect**</th></thead><tbody>  <tr>  <td>`n`</td>  <td>Aligns to **top**</td></tr><tr><td>`s`</td>  <td>Aligns to **bottom**</tr><tr><td>`e`</td>  <td>Aligns to **right**</tr><tr><td>`w`</td>  <td>Aligns to **left**</tr><tr><td>`ns`</td>  <td>Stretches **vertically**</tr><tr><td>`ew`</td>  <td>Stretches **horizontally**</tr><tr><td>`nsew`</td>  <td>Stretches **both ways**</td></tr></tbody> </table>|\n",
    "| `padx`      | Horizontal padding (space outside widget) |\n",
    "| `pady`      | Vertical padding (space outside widget) |\n",
    "| `ipadx`     | Internal horizontal padding (inside widget) |\n",
    "| `ipady`     | Internal vertical padding (inside widget) |\n",
    "| `columnspan` | Widget spans multiple columns |\n",
    "| `rowspan`   | Widget spans multiple rows |"
   ]
  },
  {
   "cell_type": "code",
   "execution_count": 26,
   "metadata": {},
   "outputs": [],
   "source": [
    "win = tk.Tk()\n",
    "label = tk.Label(win,text='Tkiinter learning',font=('Arial',18),fg='blue',bg='#000000').grid(row=0,column=0,padx=5,pady=5) \n",
    "button1 = tk.Button(win,text='close window',command= win.destroy)\n",
    "button1.grid(row=1,column=0)\n",
    "button2 = tk.Button(win,text='close window',command= win.destroy).grid(row=2,column=0,sticky='nsew')\n",
    "win.mainloop()"
   ]
  },
  {
   "cell_type": "markdown",
   "metadata": {},
   "source": [
    "## tk"
   ]
  },
  {
   "cell_type": "markdown",
   "metadata": {},
   "source": [
    "### `tk.StringVar`\n",
    "a special Tkinter variables used to manage and track changes `string` in widget.often used to bind widget values (e.g., `Entry`,`Radiobutton`) to Python variables.  \n",
    "\n",
    "| **Attribute/Method** | **Description**                                                                 |\n",
    "|----------------------|---------------------------------------------------------------------------------|\n",
    "| `get()`              | Returns the current value of the variable as a string.                         |\n",
    "| `set(value)`         | Sets the value of the variable to the specified string.                        |\n",
    "| `trace_add(mode, callback)` | Adds a callback that is triggered when the variable is read, written, or unset. |\n",
    "| `trace_remove(mode, callback_id)` | Removes a previously added trace callback.                        |\n",
    "  \n",
    "  \n",
    "| **Mode**   | **Description**                                                                 |\n",
    "|------------|---------------------------------------------------------------------------------|\n",
    "| `\"read\"`   | Triggers the callback when the variable is read.                                |\n",
    "| `\"write\"`  | Triggers the callback when the variable is written to.                          |\n",
    "| `\"unset\"`  | Triggers the callback when the variable is unset.                               |\n"
   ]
  },
  {
   "cell_type": "code",
   "execution_count": null,
   "metadata": {},
   "outputs": [
    {
     "name": "stdout",
     "output_type": "stream",
     "text": [
      "StringVar changed to: Hell\n",
      "StringVar changed to: Hel\n",
      "StringVar changed to: He\n",
      "StringVar changed to: H\n",
      "StringVar changed to: \n"
     ]
    }
   ],
   "source": [
    "import tkinter as tk\n",
    "\n",
    "def on_change(*args):\n",
    "    print(f\"StringVar changed to: {string_var.get()}\")\n",
    "\n",
    "win = tk.Tk()\n",
    "win.title(\"tk.StringVar Example\")\n",
    "\n",
    "# Create a StringVar\n",
    "string_var = tk.StringVar(value=\"Hello\")\n",
    "string_var.trace_add(\"write\", on_change)\n",
    "\n",
    "# Create an Entry widget bound to the StringVar\n",
    "entry = tk.Entry(win, textvariable=string_var)\n",
    "entry.pack(pady=10)\n",
    "\n",
    "# Create a Button to update the StringVar\n",
    "button = tk.Button(win, text=\"Set StringVar\", command=lambda: string_var.set(\"Updated!\"))\n",
    "button.pack(pady=10)\n",
    "\n",
    "win.mainloop()"
   ]
  },
  {
   "cell_type": "markdown",
   "metadata": {},
   "source": [
    "### `tk.IntVar()`\n",
    "a Tkinter variable used to manage and track integer values. It is commonly used with widgets like `Radiobutton`, `Checkbutton`, or `Scale` to store and bind integer values. often used to bind with scale  \n",
    "\n",
    "| **Method**         | **Description**                                                                 |\n",
    "|--------------------|---------------------------------------------------------------------------------|\n",
    "| `get()`            | Returns the current value of the `IntVar`.                                      |\n",
    "| `set(value)`       | Sets the value of the `IntVar` to the specified integer.                        |\n",
    "| `trace_add(mode, callback)` | Adds a callback that is triggered when the variable is read, written, or unset. |\n",
    "| `trace_remove(mode, callback_id)` | Removes a previously added trace callback.                        |\n"
   ]
  },
  {
   "cell_type": "code",
   "execution_count": 10,
   "metadata": {},
   "outputs": [],
   "source": [
    "import tkinter as tk\n",
    "\n",
    "def on_value_change(*args):\n",
    "    label.config(text=f\"IntVar changed to: {int_var.get()}\")\n",
    "\n",
    "win = tk.Tk()\n",
    "win.title(\"IntVar Example\")\n",
    "\n",
    "# Create an IntVar\n",
    "int_var = tk.IntVar(value=10)  # Initial value is 10\n",
    "int_var.trace_add(\"write\", on_value_change)  # Add a callback to track changes\n",
    "\n",
    "# Create a Scale widget bound to the IntVar\n",
    "scale = tk.Scale(win, from_=0, to=100, orient=\"horizontal\", variable=int_var)\n",
    "scale.pack(pady=20)\n",
    "\n",
    "label = tk.Label(win, textvariable=int_var)\n",
    "label.pack(pady=10)\n",
    "\n",
    "# Create a Button to set the IntVar value\n",
    "button = tk.Button(win, text=\"Set Value to 50\", command=lambda: int_var.set(50))\n",
    "button.pack(pady=10)\n",
    "\n",
    "win.mainloop()"
   ]
  },
  {
   "cell_type": "markdown",
   "metadata": {},
   "source": [
    "### **`tk.DoubleVar`**\n",
    "a special Tkinter variables used to manage and track changes `float` in widget.often used to bind widget values (e.g., `Scale`) to Python variables.  \n",
    "| **Attribute/Method** | **Description**                                                                 |\n",
    "|----------------------|---------------------------------------------------------------------------------|\n",
    "| `get()`              | Returns the current value of the variable as a float.                          |\n",
    "| `set(value)`         | Sets the value of the variable to the specified float.                         |\n",
    "| `trace_add(mode, callback)` | Adds a callback that is triggered when the variable is read, written, or unset. |\n",
    "| `trace_remove(mode, callback_id)` | Removes a previously added trace callback.                        |\n",
    "  \n",
    "| **Mode**   | **Description**                                                                 |\n",
    "|------------|---------------------------------------------------------------------------------|\n",
    "| `\"read\"`   | Triggers the callback when the variable is read.                                |\n",
    "| `\"write\"`  | Triggers the callback when the variable is written to.                          |\n",
    "| `\"unset\"`  | Triggers the callback when the variable is unset.                               |\n"
   ]
  },
  {
   "cell_type": "markdown",
   "metadata": {},
   "source": [
    "### `tk.Toplevel`\n",
    "| **Attribute**      | **Description**                                                                 |\n",
    "|--------------------|---------------------------------------------------------------------------------|\n",
    "| `title(string)`    | Sets the title of the Toplevel window.                                          |\n",
    "| `geometry(string)` | Sets the size and position of the Toplevel window (e.g., `\"400x300+100+100\"`).  |\n",
    "| `resizable(width, height)` | Enables or disables resizing of the window (e.g., `resizable(False, False)`). |\n",
    "| `iconbitmap(path)` | Sets the icon of the Toplevel window (Windows only).                            |\n",
    "| `transient(master)` | Makes the Toplevel window always appear on top of its master window.           |\n",
    "| `attributes(*args)` | Sets window attributes like transparency, fullscreen, etc.                     |\n",
    "| `protocol(name, func)` | Handles window manager events (e.g., `WM_DELETE_WINDOW` for closing the window). |\n",
    "\n",
    "---\n",
    "\n",
    "| **Method**         | **Description**                                                                 |\n",
    "|--------------------|---------------------------------------------------------------------------------|\n",
    "| `destroy()`        | Closes and destroys the Toplevel window.                                        |\n",
    "| `withdraw()`       | Hides the Toplevel window without destroying it.                                |\n",
    "| `deiconify()`      | Restores a hidden Toplevel window.                                              |\n",
    "| `focus_set()`      | Brings the Toplevel window to focus.                                            |\n",
    "| `grab_set()`       | Captures all events for the Toplevel window (modal behavior).                   |\n",
    "| `grab_release()`   | Releases the grab on the Toplevel window.                                       |\n",
    "| `lift(aboveThis=None)` | Raises the Toplevel window above other windows.                             |\n",
    "| `lower(belowThis=None)` | Lowers the Toplevel window below other windows.                            |\n"
   ]
  },
  {
   "cell_type": "code",
   "execution_count": 4,
   "metadata": {},
   "outputs": [],
   "source": [
    "import tkinter as tk\n",
    "\n",
    "def open_toplevel():\n",
    "    # Create a new Toplevel window\n",
    "    top = tk.Toplevel(win)\n",
    "    top.title(\"Toplevel Example\")\n",
    "    top.geometry(\"300x200\")\n",
    "    top.resizable(False, False)\n",
    "    top.focus_set()\n",
    "    \n",
    "    # Add widgets to the Toplevel window\n",
    "    label = tk.Label(top, text=\"This is a Toplevel window\")\n",
    "    label.pack(pady=20)\n",
    "\n",
    "    # Close button\n",
    "    close_button = tk.Button(top, text=\"Close\", command=top.destroy)\n",
    "    close_button.pack(pady=10)\n",
    "\n",
    "win = tk.Tk()\n",
    "win.title(\"Main Window\")\n",
    "win.geometry(\"400x300\")\n",
    "\n",
    "# Button to open the Toplevel window\n",
    "open_button = tk.Button(win, text=\"Open Toplevel\", command=open_toplevel)\n",
    "open_button.pack(pady=50)\n",
    "\n",
    "win.mainloop()"
   ]
  },
  {
   "cell_type": "markdown",
   "metadata": {},
   "source": [
    "## ttk\n",
    "Common `ttk` Widgets\n",
    "| **Widget**         | **Description**                                                                 |\n",
    "|--------------------|---------------------------------------------------------------------------------|\n",
    "| `ttk.Button`       | A button widget that can trigger a command when clicked.                       |\n",
    "| `ttk.Label`        | A widget to display text or images.                                            |\n",
    "| `ttk.Entry`        | A single-line text input field.                                                |\n",
    "| `ttk.Checkbutton`  | A button that can be toggled on or off.                                        |\n",
    "| `ttk.Radiobutton`  | A button that allows the user to select one option from a group.               |\n",
    "| `ttk.Combobox`     | A drop-down list for selecting one option from a list.                        |\n",
    "| `ttk.Progressbar`  | A widget to show progress (e.g., loading or task completion).                 |\n",
    "| `ttk.Scale`        | A slider widget to select a value from a range.                               |\n",
    "| `ttk.Scrollbar`    | A scrollbar widget for scrolling content.                                     |\n",
    "| `ttk.Separator`    | A horizontal or vertical line to separate widgets.                            |\n",
    "| `ttk.Treeview`     | A widget to display hierarchical data in a tree-like structure.               |\n",
    "| `ttk.Notebook`     | A tabbed widget to organize content into multiple tabs.                       |\n",
    "| `ttk.Frame`        | A container widget to group other widgets.                                    |\n",
    "| `ttk.PanedWindow`  | A container widget with resizable panes.                                      |\n",
    "| `ttk.LabelFrame`   | A container widget with a labeled border.                                     |\n",
    "| `ttk.Sizegrip`     | A widget to resize the window by dragging from the bottom-right corner.       |"
   ]
  },
  {
   "cell_type": "code",
   "execution_count": 21,
   "metadata": {},
   "outputs": [
    {
     "name": "stdout",
     "output_type": "stream",
     "text": [
      "Scale value: 50.0\n",
      "Scale value: 51.162790697674424\n",
      "Scale value: 53.48837209302325\n",
      "Scale value: 59.30232558139535\n",
      "Scale value: 60.46511627906976\n",
      "Scale value: 63.95348837209303\n",
      "Scale value: 65.11627906976744\n",
      "Scale value: 67.44186046511628\n",
      "Scale value: 68.6046511627907\n",
      "Scale value: 72.09302325581395\n",
      "Scale value: 70.93023255813954\n",
      "Scale value: 69.76744186046511\n",
      "Scale value: 68.6046511627907\n",
      "Scale value: 67.44186046511628\n",
      "Scale value: 66.27906976744185\n",
      "Scale value: 65.11627906976744\n",
      "Scale value: 63.95348837209303\n",
      "Scale value: 62.7906976744186\n",
      "Scale value: 61.627906976744185\n",
      "Scale value: 58.139534883720934\n",
      "Scale value: 54.65116279069767\n",
      "Scale value: 52.32558139534884\n",
      "Scale value: 48.837209302325576\n",
      "Scale value: 46.51162790697674\n",
      "Scale value: 45.348837209302324\n",
      "Scale value: 44.18604651162791\n",
      "Scale value: 43.02325581395349\n",
      "Scale value: 43.02325581395349\n"
     ]
    }
   ],
   "source": [
    "import tkinter as tk\n",
    "from tkinter import ttk\n",
    "\n",
    "def on_scale_change(value):\n",
    "    print(f\"Scale value: {double_var.get()}\")\n",
    "\n",
    "win = tk.Tk()\n",
    "win.title(\"tk.DoubleVar Example\")\n",
    "\n",
    "# Create a DoubleVar\n",
    "double_var = tk.DoubleVar(value=50)\n",
    "\n",
    "# Create a Scale widget bound to the DoubleVar\n",
    "scale = ttk.Scale(win, from_=0, to=100, orient=\"horizontal\", variable=double_var, command=on_scale_change)\n",
    "scale.pack(pady=20)\n",
    "\n",
    "# Create a Button to set the DoubleVar\n",
    "button = ttk.Button(win, text=\"Set Scale to 75\", command=lambda: double_var.set(75))\n",
    "button.pack(pady=10)\n",
    "\n",
    "win.mainloop()"
   ]
  },
  {
   "cell_type": "markdown",
   "metadata": {},
   "source": [
    "### ttk.Style()\n",
    "is a class to costum style of widget\n",
    "| **Attribute/Method**           | **Description**                                                                                     |\n",
    "|--------------------------------|-----------------------------------------------------------------------------------------------------|\n",
    "| `theme_use(theme_name=None)`   | Gets or sets the current theme. If `theme_name` is provided, it switches to that theme.             |\n",
    "| `configure(style, **options)`  | Configures the style options for a specific widget style (e.g., `foreground`, `background`).        |\n",
    "| `map(style, **states)`         | Configures dynamic states for a widget style (e.g., `hover`, `pressed`, `disabled`).               |\n",
    "| `layout(style, layout_spec=None)` | Gets or sets the layout of a widget style.                                                        |\n",
    "| `lookup(style, option, state=None)` | Returns the value of a specific option for a widget style in a given state.                     |\n",
    "| `element_options(element)`     | Returns the configurable options for a specific element in a widget.                               |\n",
    "| `theme_names()`                | Returns a list of all available themes.                                                            |\n",
    "| `theme_create(name, parent=None, settings=None)` | Creates a new theme based on an existing theme.                                   |\n",
    "| `theme_delete(name)`           | Deletes an existing theme.                                                                         |\n",
    "| `theme_settings(name, settings)` | Modifies the settings of an existing theme.                                                      |\n",
    "\n",
    "Common Parameters for `configure()`\n",
    "| **Parameter**    | **Description**                                                                 |\n",
    "|------------------|---------------------------------------------------------------------------------|\n",
    "| `style_name`      |consists of two parts:<br>1. Custom Name: A unique identifier for your style (e.g., \"Custom\").<br>2. Widget Class: The widget type you are styling (`TButton` , `TLabel` , `TEntry` , `TFrame` , `TCheckbutton` , `TRediobutton` , `TCombobox` , `TNotebook` , `TProgressbar` , `Treeview`).<br>Teg of full style name : `Custom.TWidgetClass` <br>|\n",
    "| `foreground`     | Sets the text color of the widget.                                              |\n",
    "| `background`     | Sets the background color of the widget.                                        |\n",
    "| `font`           | Sets the font of the widget (e.g., `(\"Arial\", 12)`).                            |\n",
    "| `padding`        | Sets the padding around the widget content.                                     |\n",
    "| `relief`         | Sets the border style (e.g., `flat`, `raised`, `sunken`, `groove`, `ridge`).    |\n",
    "| `borderwidth`    | Sets the width of the widget's border.                                          |\n",
    "| `width`          | Sets the width of the widget.                                                  |"
   ]
  },
  {
   "cell_type": "code",
   "execution_count": null,
   "metadata": {},
   "outputs": [],
   "source": [
    "win = tk.Tk()\n",
    "\n",
    "# Create a Style object\n",
    "style = ttk.Style()\n",
    "\n",
    "# Configure a custom style for a Button\n",
    "style.configure(\"Custom.TButton\", foreground=\"red\", background=\"black\", font=(\"Arial\", 12), padding=10)\n",
    "\n",
    "# Configure dynamic states for the Button\n",
    "style.map(\"Custom.TButton\", background=[(\"active\", \"black\"), (\"disabled\", \"gray\")])\n",
    "\n",
    "# Create a Button with the custom style\n",
    "button = ttk.Button(win, text=\"Click Me\", style=\"Custom.TButton\")\n",
    "button.pack(pady=20)\n",
    "\n",
    "win.mainloop()"
   ]
  },
  {
   "cell_type": "markdown",
   "metadata": {},
   "source": [
    "### ttk.Label()\n",
    "| **Parameter**  | **Description** |\n",
    "|----------------|------------------|\n",
    "| `master`       | Parent widget (e.g., `tk.Tk()` or `tk.Frame()`) |\n",
    "| `text`         | Text to display in the label |\n",
    "| `textvariable` | Binds the label to a `tk.StringVar()` for dynamic text updates |\n",
    "| `image`        | Displays an image (e.g., `tk.PhotoImage`) in the label |\n",
    "| `compound`     | Specifies how to display text and image together (`'top'`, `'bottom'`, `'left'`, `'right'`, `'center'`) |\n",
    "| `anchor`       | Aligns the text/image within the label (`'n'`, `'ne'`, `'e'`, `'se'`, `'s'`, `'sw'`, `'w'`, `'nw'`, `'center'`) |\n",
    "| `background`   | Background color of the label |\n",
    "| `foreground`   | Text color of the label |\n",
    "| `font`         | Font of the text (e.g., `(\"Arial\", 12)`) |\n",
    "| `padding`      | Adds padding around the label content (e.g., `padding=(5, 10)`) |\n",
    "| `width`        | Width of the label in characters |\n",
    "| `wraplength`   | Specifies the maximum line width in pixels before wrapping text |"
   ]
  },
  {
   "cell_type": "code",
   "execution_count": 5,
   "metadata": {},
   "outputs": [],
   "source": [
    "win = tk.Tk()\n",
    "label = ttk.Label(win,text='Tkiinter learning').grid()   # or using label.pack() can also show label\n",
    "win.mainloop()"
   ]
  },
  {
   "cell_type": "markdown",
   "metadata": {},
   "source": [
    "### `ttk.Button()`\n",
    "| **Parameter**         | **Description** |\n",
    "|---------------|-------------|\n",
    "| `master`  |   The patent widget   |\n",
    "| `text`        | Text displayed on the button |\n",
    "| `command`     | Function called when the button is clicked |\n",
    "| `image` | Image displayed on the button. |\n",
    "| `compound` | Specifies how text and image are displayed together (`left`, `right`, `top`, `bottom`, `center`). |\n",
    "| `takefocus` | Whether the button can receive focus (`0` or `1`). |\n",
    "| `state`       | Button state: `\"normal\"`, `\"disabled\"`, or `\"active\"` |\n",
    "| `cursor`      | Mouse cursor appearance when hovering over the button <br> <table><thead><tr><th> Cursor Name</th><th>Appearance</th></tr></thead><tbody><tr><td>`\"arrow\"`</td><td>➤ Default arrow cursor</td></tr><tr><td>`\"hand2\"`</td><td>☝️ Hand cursor (often used for buttons/links)</td></tr><tr><td>`\"cross\"`</td><td>✛ Crosshair (used for precision selection)</td></tr><tr><td>`\"watch\"`</td><td>⏳ Hourglass (Windows)</td></tr><tr><td>`\"xterm\"`</td><td>🖉 Text input cursor (I-beam)</td></tr><tr><td>`\"circle\"`</td><td>⭕ Small circle (Linux)</td></tr><tr><td>`\"plus\"`</td><td>➕ Plus sign</td></tr><tr><td>`\"star\"`</td><td>★ Star cursor</td></tr><tr><td>`\"fleur\"`</td><td>✥ Move cursor (four arrows)</td></tr><tr><td>`\"sb_h_double_arrow\"`</td><td>↔ Horizontal resize</td></tr><tr><td>`\"sb_v_double_arrow\"`</td><td>↕ Vertical resize</td></tr></tbody></table>|\n"
   ]
  },
  {
   "cell_type": "code",
   "execution_count": 60,
   "metadata": {},
   "outputs": [
    {
     "name": "stdout",
     "output_type": "stream",
     "text": [
      "Click\n"
     ]
    }
   ],
   "source": [
    "def pr():\n",
    "    print('Click')\n",
    "\n",
    "win = tk.Tk()\n",
    "button1 = ttk.Button(win,text='normal' ,command=pr,state = 'normal' ).grid(row=0,column = 0)\n",
    "button2 = ttk.Button(win,text='disabled' ,command=pr,state = 'disabled' ).grid(row=1,column = 0)\n",
    "button3 = ttk.Button(win,text='active' ,command=pr,state = 'active' ).grid(row=2,column = 0)\n",
    "button4 = ttk.Button(win,text='fleur' ,command=pr,cursor = 'fleur').grid(row=3,column = 0)\n",
    "button5 = ttk.Button(win,text='takefocus' ,command=pr,takefocus = 0).grid(row=4,column = 0)\n",
    "win.mainloop()"
   ]
  },
  {
   "cell_type": "markdown",
   "metadata": {},
   "source": [
    "### `ttk.Entry()`\n",
    "| **Parameter**  | **Description** |\n",
    "|--------------|----------------|\n",
    "| `master`     | Parent widget (e.g., `tk.Tk()` or `tk.Frame()`) |\n",
    "| `textvariable` | Binds the entry to a `tk.StringVar()` |\n",
    "| `width`      | Number of characters visible in the entry field |\n",
    "| `show`      | Hides input (e.g., `show=\"*\"` for password entry) |\n",
    "| `state`     | `normal` (default) / `disabled` (read-only) / `readonly` (read-only but can be selected)|\n",
    "| `justify`   | Align text: `left`, `center`, or `right` |\n",
    "\n",
    "Entry.get() : to get the entry"
   ]
  },
  {
   "cell_type": "code",
   "execution_count": 2,
   "metadata": {},
   "outputs": [],
   "source": [
    "def acc_pw_get():\n",
    "    print(acc_ent.get(),pw_ent.get())\n",
    "    print(default.get())\n",
    "win = tk.Tk()\n",
    "default = tk.StringVar()\n",
    "acc_lab = ttk.Label(win,text='Name: ')\n",
    "acc_lab.grid(row=0,column=0)\n",
    "acc_ent = ttk.Entry(win,textvariable= default,width=15)\n",
    "acc_ent.grid(row=0,column=1)\n",
    "pw_lab = ttk.Label(win,text='Name: ')\n",
    "pw_lab.grid(row=1,column=0)\n",
    "pw_ent = ttk.Entry(win,width=15,show='*')\n",
    "pw_ent.grid(row=1,column=1)\n",
    "default.set('AX1111')\n",
    "login_but = ttk.Button(win,text='Login',command=acc_pw_get).grid(row=2,column=0)\n",
    "win.mainloop()"
   ]
  },
  {
   "cell_type": "markdown",
   "metadata": {},
   "source": [
    "### `ttk.Radiobutton()`\n",
    "| **Parameter**      | **Description**                                                                 |\n",
    "|--------------------|---------------------------------------------------------------------------------|\n",
    "| `master`           | The parent widget (e.g., `tk.Tk()` or `ttk.Frame()`).                          |\n",
    "| `text`             | The text displayed next to the radiobutton.                                    |\n",
    "| `value`            | The value associated with the radiobutton.                                     |\n",
    "| `variable`         | A `tk.StringVar` or `tk.IntVar` that stores the value of the selected radiobutton. |\n",
    "| `command`          | A function to call when the radiobutton is selected.                           |\n",
    "| `state`            | The state of the radiobutton (`\"normal\"`, `\"disabled\"`, or `\"active\"`).         |\n",
    "| `cursor`           | The mouse cursor to display when hovering over the radiobutton.                |\n",
    "| `style`            | The style to apply to the radiobutton.                                         |\n",
    "| `takefocus`        | Whether the radiobutton can receive focus (`0` or `1`).                        |\n",
    "   \n",
    "---\n",
    "\n",
    "| **Method**         | **Description**                                                                 |\n",
    "|--------------------|---------------------------------------------------------------------------------|\n",
    "| `invoke()`         | Simulates a click on the radiobutton and calls the associated command.          |\n",
    "   \n",
    "---\n",
    "\n",
    "| **State**          | **Description**                                                                 |\n",
    "|--------------------|---------------------------------------------------------------------------------|\n",
    "| `normal`           | The default state, allowing user interaction.                                  |\n",
    "| `disabled`         | The radiobutton is grayed out and cannot be selected.                          |\n",
    "| `active`           | The radiobutton is currently active (e.g., being clicked).                     |"
   ]
  },
  {
   "cell_type": "code",
   "execution_count": 11,
   "metadata": {},
   "outputs": [],
   "source": [
    "import tkinter as tk\n",
    "from tkinter import ttk\n",
    "\n",
    "def show_selection():\n",
    "    print(f\"Selected option: {selected_option.get()}\")\n",
    "\n",
    "def invoke_radio():\n",
    "    radio1.invoke()  # Simulates a click on the first radiobutton\n",
    "\n",
    "def select_radio():\n",
    "    selected_option.set(\"Option 2\")  # Programmatically selects the second radiobutton\n",
    "\n",
    "def deselect_radio():\n",
    "    selected_option.set(\"\")  # Programmatically deselects all radiobuttons\n",
    "\n",
    "def flash_radio():\n",
    "    # Custom flash effect: Temporarily disable and re-enable the radiobutton\n",
    "    radio1.state([\"disabled\"])\n",
    "    win.after(200, lambda: radio1.state([\"!disabled\"]))\n",
    "\n",
    "win = tk.Tk()\n",
    "win.title(\"Radiobutton Parameters and Methods Example\")\n",
    "\n",
    "# Create a StringVar to hold the selected value\n",
    "selected_option = tk.StringVar(value=\"Option 1\")\n",
    "\n",
    "# Create Radiobuttons with different parameters\n",
    "radio1 = ttk.Radiobutton(win, text=\"Option 1\", value=\"Option 1\", variable=selected_option, command=show_selection, state=\"normal\", cursor=\"hand2\")\n",
    "radio2 = ttk.Radiobutton(win, text=\"Option 2\", value=\"Option 2\", variable=selected_option, command=show_selection, state=\"normal\", cursor=\"arrow\")\n",
    "radio3 = ttk.Radiobutton(win, text=\"Option 3\", value=\"Option 3\", variable=selected_option, command=show_selection, state=\"disabled\", cursor=\"xterm\")\n",
    "\n",
    "# Place Radiobuttons on the window\n",
    "radio1.grid(row=0, column=0, padx=10, pady=5)\n",
    "radio2.grid(row=1, column=0, padx=10, pady=5)\n",
    "radio3.grid(row=2, column=0, padx=10, pady=5)\n",
    "\n",
    "# Create Buttons to test methods\n",
    "invoke_button = ttk.Button(win, text=\"Invoke Option 1\", command=invoke_radio)\n",
    "invoke_button.grid(row=0, column=1, padx=10, pady=5)\n",
    "\n",
    "select_button = ttk.Button(win, text=\"Select Option 2\", command=select_radio)\n",
    "select_button.grid(row=1, column=1, padx=10, pady=5)\n",
    "\n",
    "deselect_button = ttk.Button(win, text=\"Deselect All\", command=deselect_radio)\n",
    "deselect_button.grid(row=2, column=1, padx=10, pady=5)\n",
    "\n",
    "# set radiobutton to normal state\n",
    "enable_button = ttk.Button(win, text=\"Enable radio3\", command=lambda :radio3.configure(state=\"normal\"))\n",
    "enable_button.grid(row=3, column=0, padx=10, pady=5)\n",
    "\n",
    "flash_button = ttk.Button(win, text=\"Flash Option 1\", command=flash_radio)\n",
    "flash_button.grid(row=3, column=1, columnspan=2, pady=10)\n",
    "\n",
    "win.mainloop()"
   ]
  },
  {
   "cell_type": "markdown",
   "metadata": {},
   "source": [
    "### `ttk.Scale()`\n",
    "| **Parameter**      | **Description**                                                                 |\n",
    "|--------------------|---------------------------------------------------------------------------------|\n",
    "| `master`           | The parent widget (e.g., `tk.Tk()` or `ttk.Frame()`).                          |\n",
    "| `from_`            | The starting value of the scale (e.g., `0`).                                   |\n",
    "| `to`               | The ending value of the scale (e.g., `100`).                                   |\n",
    "| `orient`           | The orientation of the scale (`\"horizontal\"` or `\"vertical\"`).                 |\n",
    "| `variable`         | A `tk.DoubleVar` or `tk.IntVar` to store the current value of the scale.       |\n",
    "| `command`          | A function to call whenever the scale value changes.                          |\n",
    "| `length`           | The length of the scale in pixels.                                             |\n",
    "| `value`            | The initial value of the scale.                                                |\n",
    "| `state`            | The state of the scale (`\"normal\"` or `\"disabled\"`).                           |\n",
    "| `style`            | The style to apply to the scale.                                               |\n",
    "| `takefocus`        | Whether the scale can receive focus (`0` or `1`).                              |\n",
    "\n",
    "---\n",
    "\n",
    "| **Method**         | **Description**                                                                 |\n",
    "|--------------------|---------------------------------------------------------------------------------|\n",
    "| `get()`            | Returns the current value of the scale.                                         |\n",
    "| `set(value)`       | Sets the scale to the specified value.                                          |\n"
   ]
  },
  {
   "cell_type": "code",
   "execution_count": 15,
   "metadata": {},
   "outputs": [
    {
     "name": "stdout",
     "output_type": "stream",
     "text": [
      "Scale value: 75.0\n",
      "Current value: 75.0\n"
     ]
    }
   ],
   "source": [
    "import tkinter as tk\n",
    "from tkinter import ttk\n",
    "\n",
    "def on_scale_change(value):\n",
    "    print(f\"Scale value: {value}\")\n",
    "\n",
    "win = tk.Tk()\n",
    "win.title(\"ttk.Scale Example\")\n",
    "\n",
    "# Create a DoubleVar to hold the scale value\n",
    "scale_value = tk.DoubleVar(value=25)\n",
    "\n",
    "# Create a Scale widget\n",
    "scale = ttk.Scale(\n",
    "    win,\n",
    "    from_=0,\n",
    "    to=100,\n",
    "    orient=\"horizontal\",\n",
    "    variable=scale_value,\n",
    "    command=on_scale_change,\n",
    "    length=300\n",
    ")\n",
    "scale.pack(pady=20)\n",
    "\n",
    "# Create a Button to set the scale value programmatically\n",
    "set_button = ttk.Button(win, text=\"Set Scale to 75\", command=lambda: scale.set(75))\n",
    "set_button.pack(pady=10)\n",
    "\n",
    "# Create a Button to get the current scale value\n",
    "get_button = ttk.Button(win, text=\"Get Scale Value\", command=lambda: print(f\"Current value: {scale.get()}\"))\n",
    "get_button.pack(pady=10)\n",
    "\n",
    "win.mainloop()"
   ]
  },
  {
   "cell_type": "markdown",
   "metadata": {},
   "source": [
    "### `ttk.Combobox()`\n",
    "The `ttk.Combobox` widget is a drop-down list that allows the user to select one option from a predefined list. It can also allow text input, depending on its configuration.\n",
    "\n",
    "---\n",
    "\n",
    "| **Parameter**      | **Description**                                                                 |\n",
    "|--------------------|---------------------------------------------------------------------------------|\n",
    "| `master`           | The parent widget (e.g., `tk.Tk()` or `ttk.Frame()`).                          |\n",
    "| `values`           | A list or tuple of values to display in the drop-down list.                    |\n",
    "| `textvariable`     | A `tk.StringVar` to store the current value of the combobox.                   |\n",
    "| `state`            | The state of the combobox (`\"normal\"`, `\"readonly\"`, or `\"disabled\"`).          |\n",
    "| `width`            | The width of the combobox in characters.                                       |\n",
    "| `postcommand`      | A callback function that is executed just before the drop-down list is displayed. |\n",
    "\n",
    "---\n",
    "\n",
    "| **Method**         | **Description**                                                                 |\n",
    "|--------------------|---------------------------------------------------------------------------------|\n",
    "| `get()`            | Returns the current value of the combobox.                                      |\n",
    "| `set(value)`       | Sets the value of the combobox to the specified string.                         |\n",
    "| `current(index)`   | Sets the combobox to the value at the specified index in the `values` list.      |\n",
    "| `bind`             | Associate an event with a callback function. <br><table><thead><tr><th> **Event** </th><th>**Description**</th></tr></thead><tbody><tr><td>`<<ComboboxSelected>>`</td><td>Triggered when the user selects an item from the dropdown list.</td></tr><tr><td>`<KeyRelease>`</td><td>Triggered when the user releases a key while typing in the combobox.</td></tr><tr><td>`<FocusIn>`</td><td>Triggered when the combobox gains focus.</td></tr><tr><td>`<FocusOut>`</td><td>Triggered when the combobox loses focus.</td></tr><tr><td>`<Button-1>`</td><td>Triggered when the user clicks on the combobox.</td></tr></tbody></table>|\n",
    "\n",
    "\n",
    "---\n",
    "\n",
    "| **State**          | **Description**                                                                 |\n",
    "|--------------------|---------------------------------------------------------------------------------|\n",
    "| `\"normal\"`         | The default state, allowing both selection and text input.                     |\n",
    "| `\"readonly\"`       | Allows selection from the drop-down list but disables text input.              |\n",
    "| `\"disabled\"`       | Disables the combobox entirely.                                                |\n"
   ]
  },
  {
   "cell_type": "code",
   "execution_count": 30,
   "metadata": {},
   "outputs": [],
   "source": [
    "import tkinter as tk\n",
    "from tkinter import ttk\n",
    "\n",
    "def on_selection(event):\n",
    "    print(f\"Selected value: {event.widget.get()}\")\n",
    "\n",
    "def filter_combobox(event):\n",
    "    # Get the current input from the combobox\n",
    "    value = event.widget.get()\n",
    "    # Filter the values based on the input\n",
    "    filtered_values = [item for item in option if value.lower() in item.lower()]\n",
    "    # Update the combobox values\n",
    "    event.widget[\"values\"] = filtered_values\n",
    "    # Open the dropdown menu\n",
    "    event.widget.event_generate(\"<Down>\")\n",
    "\n",
    "win = tk.Tk()\n",
    "win.title(\"ttk.Combobox Example\")\n",
    "\n",
    "option = [\"Option 1\", \"Option 2\", \"Option 3\"]\n",
    "\n",
    "# Create a StringVar to hold the selected value\n",
    "selected_value1 = tk.StringVar()\n",
    "selected_value2 = tk.StringVar()\n",
    "\n",
    "# Create a Combobox widget\n",
    "combo1 = ttk.Combobox(\n",
    "    win,\n",
    "    textvariable=selected_value1,\n",
    "    values=option,\n",
    "    state=\"readonly\",  # Set to \"readonly\" to disable text input\n",
    "    width=20\n",
    ")\n",
    "combo1.pack(pady=10)\n",
    "\n",
    "combo2 = ttk.Combobox(\n",
    "    win,\n",
    "    textvariable=selected_value2,\n",
    "    values= option,\n",
    "    state=\"normal\",  # Set to \"normal\" to enable text input\n",
    "    width=20\n",
    ")\n",
    "combo2.pack(pady=10)\n",
    "\n",
    "# Bind the Combobox to an event\n",
    "combo1.bind(\"<<ComboboxSelected>>\", on_selection)\n",
    "combo2.bind(\"<KeyRelease>\", filter_combobox)\n",
    "\n",
    "\n",
    "# Set the default value\n",
    "combo1.current(0)  # Select the first option by default\n",
    "combo2.current(0)\n",
    "\n",
    "win.mainloop()"
   ]
  },
  {
   "cell_type": "markdown",
   "metadata": {},
   "source": [
    "### `ttk.Treeview()`\n",
    "| **Parameter**      | **Description**                                                                 |\n",
    "|--------------------|---------------------------------------------------------------------------------|\n",
    "| `master`           | The parent widget (e.g., `tk.Tk()` or `ttk.Frame()`).                          |\n",
    "| `columns`          | A tuple of column identifiers for the treeview.                                |\n",
    "| `show`             | Specifies what to display (`\"tree\"`, `\"headings\"`, or `\"tree headings\"`).       |\n",
    "| `selectmode`       | Selection mode (`\"browse\"`, `\"extended\"`, `\"none\"`).                           |\n",
    "| `height`           | The number of rows visible in the treeview.                                    |\n",
    "| `padding`          | Adds padding around the treeview.                                              |\n",
    "| `style`            | The style to apply to the treeview.                                            |\n",
    "\n",
    "---\n",
    "\n",
    "### **Methods**\n",
    "| **Method**         | **Description**                                                                 |\n",
    "|--------------------|---------------------------------------------------------------------------------|\n",
    "| `insert(parent, index, iid=None, text='', values=())` | Inserts a new item into the tree.                                               |\n",
    "| `delete(item)`     | Deletes an item from the tree.                                                 |\n",
    "| `item(item, option=None, **kw)` | Gets or sets the options for a specific item.                                         |\n",
    "| `get_children(item=None)` | Returns the children of the specified item.                                               |\n",
    "| `set(item, column=None, value=None)` | Sets or gets the value of a specific cell in the tree.                              |\n",
    "| `selection()`      | Returns a list of selected items.                                              |\n",
    "| `focus()`          | Returns the currently focused item.                                            |\n",
    "| `heading(column, option=None, **kw)` | Configures the heading of a specific column.                                       |\n",
    "| `column(column, option=None, **kw)` | Configures the properties of a specific column.                                     |\n",
    "|`bind`| Associate an event with a callback function. <br><table><thead><tr><th>**Event** </th> <th>**Description**</th></tr></thead><tbody><tr><td>`<<TreeviewSelect>>`</td><td>Triggered when an item is selected.</td></tr><tr><td>`<Double-1>`</td><td>Triggered when an item is double-clicked.</td></tr></tbody></table>|\n"
   ]
  },
  {
   "cell_type": "code",
   "execution_count": 31,
   "metadata": {},
   "outputs": [
    {
     "name": "stdout",
     "output_type": "stream",
     "text": [
      "Selected item: ('I001',)\n",
      "Item values: ('Alice', '25', 'New York')\n",
      "Selected item: ('I002',)\n",
      "Item values: ('Bob', '30', 'Los Angeles')\n",
      "Selected item: ('I003',)\n",
      "Item values: ('Charlie', '35', 'Chicago')\n",
      "Selected item: ('I003',)\n",
      "Item values: ('Charlie', '35', 'Chicago')\n",
      "Selected item: ('I002',)\n",
      "Item values: ('Bob', '30', 'Los Angeles')\n",
      "Selected item: ('I002',)\n",
      "Item values: ('Bob', '30', 'Los Angeles')\n"
     ]
    }
   ],
   "source": [
    "import tkinter as tk\n",
    "from tkinter import ttk\n",
    "\n",
    "def on_item_select(event):\n",
    "    selected_item = tree.selection()\n",
    "    print(f\"Selected item: {selected_item}\")\n",
    "    print(f\"Item values: {tree.item(selected_item, 'values')}\")\n",
    "\n",
    "win = tk.Tk()\n",
    "win.title(\"ttk.Treeview Example\")\n",
    "\n",
    "# Create a Treeview widget\n",
    "tree = ttk.Treeview(win, columns=(\"Name\", \"Age\", \"City\"), show=\"headings\", height=5)\n",
    "\n",
    "# Define column headings\n",
    "tree.heading(\"Name\", text=\"Name\")\n",
    "tree.heading(\"Age\", text=\"Age\")\n",
    "tree.heading(\"City\", text=\"City\")\n",
    "\n",
    "# Define column widths\n",
    "tree.column(\"Name\", width=100)\n",
    "tree.column(\"Age\", width=50)\n",
    "tree.column(\"City\", width=100)\n",
    "\n",
    "# Insert data into the Treeview\n",
    "tree.insert(\"\", \"end\", values=(\"Alice\", 25, \"New York\"))\n",
    "tree.insert(\"\", \"end\", values=(\"Bob\", 30, \"Los Angeles\"))\n",
    "tree.insert(\"\", \"end\", values=(\"Charlie\", 35, \"Chicago\"))\n",
    "\n",
    "# Bind the Treeview to an event\n",
    "tree.bind(\"<<TreeviewSelect>>\", on_item_select)\n",
    "\n",
    "tree.pack(pady=10)\n",
    "\n",
    "win.mainloop()"
   ]
  },
  {
   "cell_type": "markdown",
   "metadata": {},
   "source": [
    "## messagebox\n",
    "| **Function**           | **Description** |\n",
    "|-------------------------|------------------|\n",
    "| `showinfo(title, message)`    | Displays an informational message box with a title and message. |\n",
    "| `showwarning(title, message)` | Displays a warning message box with a title and message. |\n",
    "| `showerror(title, message)`   | Displays an error message box with a title and message. |\n",
    "| `askquestion(title, message)` | Displays a question message box and returns `'yes'` or `'no'`. |\n",
    "| `askokcancel(title, message)` | Displays a confirmation box and returns `True` for OK and `False` for Cancel. |\n",
    "| `askyesno(title, message)`    | Displays a Yes/No box and returns `True` for Yes and `False` for No. |\n",
    "| `askretrycancel(title, message)` | Displays a Retry/Cancel box and returns `True` for Retry and `False` for Cancel. |"
   ]
  },
  {
   "cell_type": "code",
   "execution_count": 10,
   "metadata": {},
   "outputs": [
    {
     "name": "stdout",
     "output_type": "stream",
     "text": [
      "yes\n",
      "True\n",
      "yes\n",
      "True\n"
     ]
    }
   ],
   "source": [
    "def showinfo():\n",
    "    msg.showinfo('Information','This is a information')\n",
    "\n",
    "def showwarning():\n",
    "    msg.showwarning('Warning','This is a warning')\n",
    "\n",
    "def showerror():\n",
    "    msg.showerror('Error','This is a error')\n",
    "\n",
    "def askquestion():\n",
    "    print(msg.askquestion('Question','Do you like python?'))\n",
    "\n",
    "def askokcancel():\n",
    "    print(msg.askokcancel('OK or Cancel','Do you like python?'))\n",
    "\n",
    "def askyesno():\n",
    "    print(msg.askyesno('Yes or No','Do you like python?'))\n",
    "\n",
    "def askretrycancel():\n",
    "    print(msg.askretrycancel('Retry or Cancel','Do you like python?'))\n",
    "\n",
    "win = tk.Tk()\n",
    "info_but = ttk.Button(win,text='info',command=showinfo).grid(row=0,column=0)\n",
    "warning_but = ttk.Button(win,text='warning',command=showwarning).grid(row=1,column=0)\n",
    "error_but = ttk.Button(win,text='error',command=showerror).grid(row=2,column=0)\n",
    "question_but = ttk.Button(win,text='question',command=askquestion).grid(row=3,column=0)\n",
    "okcancel_but = ttk.Button(win,text='okcancel',command=askokcancel).grid(row=4,column=0)\n",
    "yesno_but = ttk.Button(win,text='yesno',command=askyesno).grid(row=5,column=0)\n",
    "retrycancel_but = ttk.Button(win,text='retrycancel',command=askretrycancel).grid(row=6,column=0)\n",
    "win.mainloop()"
   ]
  },
  {
   "cell_type": "code",
   "execution_count": null,
   "metadata": {},
   "outputs": [],
   "source": [
    "import tkinter as tk\n",
    "doctor = tk.StringVar()\n",
    "doctor.set('--Select Doctor--')\n",
    "print"
   ]
  },
  {
   "cell_type": "code",
   "execution_count": 6,
   "metadata": {},
   "outputs": [
    {
     "ename": "TypeError",
     "evalue": "'getset_descriptor' object is not callable",
     "output_type": "error",
     "traceback": [
      "\u001b[1;31m---------------------------------------------------------------------------\u001b[0m",
      "\u001b[1;31mTypeError\u001b[0m                                 Traceback (most recent call last)",
      "Cell \u001b[1;32mIn[6], line 3\u001b[0m\n\u001b[0;32m      1\u001b[0m \u001b[38;5;28;01mimport\u001b[39;00m \u001b[38;5;21;01mdatetime\u001b[39;00m\n\u001b[0;32m      2\u001b[0m now \u001b[38;5;241m=\u001b[39m datetime\u001b[38;5;241m.\u001b[39mdatetime\u001b[38;5;241m.\u001b[39mnow()\n\u001b[1;32m----> 3\u001b[0m \u001b[38;5;28mprint\u001b[39m(\u001b[43mdatetime\u001b[49m\u001b[38;5;241;43m.\u001b[39;49m\u001b[43mdatetime\u001b[49m\u001b[38;5;241;43m.\u001b[39;49m\u001b[43mhour\u001b[49m\u001b[43m(\u001b[49m\u001b[43mnow\u001b[49m\u001b[43m)\u001b[49m)\n",
      "\u001b[1;31mTypeError\u001b[0m: 'getset_descriptor' object is not callable"
     ]
    }
   ],
   "source": [
    "import datetime\n",
    "now = datetime.datetime.now()\n",
    "print(datetime.datetime.hour(now))"
   ]
  },
  {
   "cell_type": "code",
   "execution_count": 5,
   "metadata": {},
   "outputs": [
    {
     "name": "stdout",
     "output_type": "stream",
     "text": [
      "1\n"
     ]
    }
   ],
   "source": [
    "print(5//5)"
   ]
  }
 ],
 "metadata": {
  "kernelspec": {
   "display_name": "base",
   "language": "python",
   "name": "python3"
  },
  "language_info": {
   "codemirror_mode": {
    "name": "ipython",
    "version": 3
   },
   "file_extension": ".py",
   "mimetype": "text/x-python",
   "name": "python",
   "nbconvert_exporter": "python",
   "pygments_lexer": "ipython3",
   "version": "3.10.16"
  }
 },
 "nbformat": 4,
 "nbformat_minor": 2
}
