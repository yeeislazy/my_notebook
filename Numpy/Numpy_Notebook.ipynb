{
 "cells": [
  {
   "cell_type": "markdown",
   "metadata": {},
   "source": [
    "# Numpy basic"
   ]
  },
  {
   "cell_type": "code",
   "execution_count": 2,
   "metadata": {},
   "outputs": [],
   "source": [
    "import numpy as np\n",
    "import pandas as pd"
   ]
  },
  {
   "cell_type": "markdown",
   "metadata": {},
   "source": [
    "## Array Creation"
   ]
  },
  {
   "cell_type": "markdown",
   "metadata": {},
   "source": [
    "### np.array( )\n",
    "\n",
    "`np.array(object, dtype=None, copy=True, order='K', subok=False, ndmin=0)`  \n",
    "\n",
    "used to create an array, which is a grid of values of the same type and is indexed by a tuple of non-negative integers\n",
    "\n",
    "- `object` : The input data that will be converted into an array. This can be:\n",
    "   - A list, tuple, or another array-like structure (such as a list of lists for 2D arrays).\n",
    "   - Any sequence-like structure (including arrays, tuples, or other Python objects).\n",
    "   \n",
    "- `dtype` (optional) : The desired data type for the array. If not specified, NumPy will infer the data type from the input. You can specify types like 'int', 'float', 'complex', etc.\n",
    "\n",
    "- `copy` (optional) : A boolean that determines if the input object is copied (default is True). If False, a view on the original object may be returned.\n",
    "\n",
    "- `order` (optional) : This determines the memory layout order for multi-dimensional arrays:\n",
    "   - `'C'` : Row-major (C-style) order.\n",
    "   - `'F'` : Column-major (Fortran-style) order.\n",
    "   - `'K'` : Preserve the order of the input (default).\n",
    "   - `'A'` : If possible, preserve the input order; otherwise, use 'C'.\n",
    "\n",
    "- `subok` (optional) : If True, the returned array will be of the same type as the input. Otherwise, the returned array will always be a base array (default is False).\n",
    "\n",
    "- `ndmin` (optional) : This specifies the minimum number of dimensions the resulting array should have. By default, it is 0 (i.e., no restriction).\n"
   ]
  },
  {
   "cell_type": "code",
   "execution_count": 15,
   "metadata": {},
   "outputs": [
    {
     "name": "stdout",
     "output_type": "stream",
     "text": [
      "1D array\n",
      " [1 2 3 4 5]\n",
      "2D array\n",
      " [[1 2 3]\n",
      " [4 5 6]]\n",
      "1D array with at least 2 dimensions\n",
      " [[1 2 3 4 5]]\n"
     ]
    }
   ],
   "source": [
    "# Basic 1D Array\n",
    "arr = np.array([1, 2, 3, 4, 5])\n",
    "\n",
    "print('1D array\\n',arr)\n",
    "\n",
    "\n",
    "# 2D Array (List of Lists)\n",
    "arr = np.array([[1, 2, 3], [4, 5, 6]])\n",
    "\n",
    "print('2D array\\n',arr)\n",
    "\n",
    "# Specifying Minimum Number of Dimensions (ndmin)\n",
    "arr = np.array([1, 2, 3, 4, 5], ndmin=2)\n",
    "\n",
    "print('1D array with at least 2 dimensions\\n',arr)"
   ]
  },
  {
   "cell_type": "markdown",
   "metadata": {},
   "source": [
    "### np.empty( ) / np.zeros( ) / np.ones( )\n",
    "\n",
    "`np.empty(shape, dtype=float, order='C')` / `np.zeros(shape, dtype=float, order='C')` / `np.ones(shape, dtype=float, order='C')` \n",
    "\n",
    "create an empty array or an array filled with 0 /1\n",
    "- `⁠shape` : shape of the array want to create.\n",
    "- `⁠dtype` (optional): The desired data type of the array. Can set it to int ⁠ or ⁠ bool ⁠, default is float.\n",
    "- `⁠order` (optional): The memory layout order for the array. It can either be ⁠ 'C' ⁠ for row-major order (C-style) or ⁠ 'F' ⁠ for column-major order (Fortran-style). Default is ⁠ 'C' ⁠."
   ]
  },
  {
   "cell_type": "code",
   "execution_count": 3,
   "metadata": {},
   "outputs": [
    {
     "name": "stdout",
     "output_type": "stream",
     "text": [
      "[[   0    1    0]\n",
      " [ 645 1116    0]\n",
      " [ 768    0    0]]\n",
      "[[0 0 0]\n",
      " [0 0 0]\n",
      " [0 0 0]]\n",
      "[[1. 1. 1.]\n",
      " [1. 1. 1.]\n",
      " [1. 1. 1.]]\n"
     ]
    }
   ],
   "source": [
    "print(np.empty((3,3),int))\n",
    "print(np.zeros((3,3),int))\n",
    "print(np.ones((3,3),float))"
   ]
  },
  {
   "cell_type": "markdown",
   "metadata": {},
   "source": [
    "### np.empty_like( ) / np.zeros_like( ) / np.ones_like( )\n",
    "`np.empty_like(a, dtype=None, order='K', subok=True, shape=None)` / `np.zeros_like(a, dtype=None, order='K', subok=True)` / `np.ones_like(a, dtype=None, order='K', subok=True)`  \n",
    "\n",
    "used to create a new array with the same shape and type as a given array, but don't not initialize the new array's elements to any specific values / set to 0 /1\n",
    "- `⁠a` : The input array. The shape and type of this array are used for creating the new array.\n",
    "- `⁠dtype` (optional) : The desired data type for the returned array. If not specified, it takes the ⁠ dtype ⁠ of the input array ⁠ a ⁠.\n",
    "- `⁠order` (optional) : Controls the memory layout order for the returned array. It can be ⁠ 'C' ⁠ (C-style row-major order) or ⁠ 'F' ⁠ (Fortran-style column-major order). The default is ⁠ 'K' ⁠, which means it will use the layout of ⁠ a ⁠.\n",
    "- `⁠subok` (optional) : If ⁠ True ⁠, the returned array will be a subclass of ⁠ a ⁠. If ⁠ False ⁠, it will not be a subclass.\n",
    "- `⁠shape` (optional) : If specified, the new array will have this shape instead of the shape of ⁠ a ⁠.\n"
   ]
  },
  {
   "cell_type": "markdown",
   "metadata": {},
   "source": [
    "### np.random\n",
    "\n",
    "#### np.random.randint( )\n",
    "`np.random.randint(low, high=None, size=None, dtype=int)`  \n",
    "\n",
    "used to generate random integers, similar to `random.random.randint()`,but `np.random.randint()` can generate array  \n",
    "\n",
    "- `low` : the lowest value in the range (inclusive)\n",
    "- `high` : the highest value in the range (exclusive)\n",
    "- `size` : length of the list or the shape of the array output\n",
    "- `dtype` : data type"
   ]
  },
  {
   "cell_type": "code",
   "execution_count": 4,
   "metadata": {},
   "outputs": [
    {
     "name": "stdout",
     "output_type": "stream",
     "text": [
      "list:  [2 3 9 3 8 7 1 5 1 8]\n",
      "array:\n",
      " [[4 2 5 8]\n",
      " [2 8 7 4]\n",
      " [3 6 4 7]\n",
      " [7 6 2 2]]\n"
     ]
    }
   ],
   "source": [
    "def rand_int():\n",
    "    num1 = np.random.randint(1,10,10)\n",
    "    num2 = np.random.randint(1,10,[4,4])\n",
    "    print('list: ',num1)\n",
    "    print('array:\\n',num2)\n",
    "\n",
    "rand_int()"
   ]
  },
  {
   "cell_type": "markdown",
   "metadata": {},
   "source": [
    "#### random.normal( )\n",
    "`random.normal(loc=0.0, scale=1.0, size=None)`  \n",
    "\n",
    "generate random numbers that drawn from a normal (Gaussian) distribution\n",
    "\n",
    "- `loc` : mean of the distribution\n",
    "- `scale` : standard devision of the distribution\n",
    "- `size` : length of the list or shape of the array"
   ]
  },
  {
   "cell_type": "code",
   "execution_count": 5,
   "metadata": {},
   "outputs": [
    {
     "data": {
      "image/png": "[encoded data removed]",
      "text/plain": [
       "<Figure size 640x480 with 2 Axes>"
      ]
     },
     "metadata": {},
     "output_type": "display_data"
    }
   ],
   "source": [
    "import matplotlib.pyplot as plt\n",
    "\n",
    "def rand_normal():\n",
    "    normal1 = np.random.normal(50,10,1000)\n",
    "    normal2 = np.random.normal(50,20,[2,1000])\n",
    "\n",
    "    x = np.arange(0,1000)\n",
    "    fig , axs = plt.subplots(1,2)\n",
    "    axs[0].hist(normal1,bins=10)\n",
    "    \n",
    "    normal2[0] = np.sort(normal2[0])\n",
    "    normal2[1] = np.sort(normal2[1])\n",
    "    axs[1].plot(x,normal2[0])\n",
    "    axs[1].plot(x,normal2[1])\n",
    "\n",
    "rand_normal()"
   ]
  },
  {
   "cell_type": "markdown",
   "metadata": {},
   "source": [
    "### np.linspace( )\n",
    "\n",
    "`np.linspace(start, stop, num=50, endpoint=True, retstep=False, dtype=None, axis=0)`  \n",
    "\n",
    "used to create an array of evenly spaced values over a specified range  \n",
    "\n",
    "- `⁠start` : The starting value of the sequence.\n",
    "- `⁠stop` : The end value of the sequence.\n",
    "- `⁠num` (optional) : The number of evenly spaced samples to generate. Default is ⁠ 50 ⁠.\n",
    "- `⁠endpoint` (optional) : If ⁠ True ⁠ (default), the ⁠ stop ⁠ value is included in the output. If ⁠ False ⁠, the ⁠ stop ⁠ value is excluded.\n",
    "- `⁠retstep` (optional) : If ⁠ True ⁠, the function also returns the step size used to generate the sequence. Default is ⁠ False ⁠.\n",
    "- `⁠dtype` (optional) : The data type of the output array. If not specified, it is inferred from the input values.\n",
    "- `⁠axis` (optional) : The axis in the result along which the ⁠ linspace ⁠ samples are stored. Default is ⁠ 0 ⁠."
   ]
  },
  {
   "cell_type": "code",
   "execution_count": 6,
   "metadata": {},
   "outputs": [
    {
     "name": "stdout",
     "output_type": "stream",
     "text": [
      "[  1.  12.  23.  34.  45.  56.  67.  78.  89. 100.]\n",
      "[  1.           3.02040816   5.04081633   7.06122449   9.08163265\n",
      "  11.10204082  13.12244898  15.14285714  17.16326531  19.18367347\n",
      "  21.20408163  23.2244898   25.24489796  27.26530612  29.28571429\n",
      "  31.30612245  33.32653061  35.34693878  37.36734694  39.3877551\n",
      "  41.40816327  43.42857143  45.44897959  47.46938776  49.48979592\n",
      "  51.51020408  53.53061224  55.55102041  57.57142857  59.59183673\n",
      "  61.6122449   63.63265306  65.65306122  67.67346939  69.69387755\n",
      "  71.71428571  73.73469388  75.75510204  77.7755102   79.79591837\n",
      "  81.81632653  83.83673469  85.85714286  87.87755102  89.89795918\n",
      "  91.91836735  93.93877551  95.95918367  97.97959184 100.        ]\n"
     ]
    }
   ],
   "source": [
    "print(np.linspace(1,100,10))\n",
    "print(np.linspace(1,100,50))"
   ]
  },
  {
   "cell_type": "markdown",
   "metadata": {},
   "source": [
    "## Array access"
   ]
  },
  {
   "cell_type": "markdown",
   "metadata": {},
   "source": [
    "### Accessing Single Values in a 1D Array"
   ]
  },
  {
   "cell_type": "code",
   "execution_count": 16,
   "metadata": {},
   "outputs": [
    {
     "name": "stdout",
     "output_type": "stream",
     "text": [
      "30\n"
     ]
    }
   ],
   "source": [
    "arr = np.array([10, 20, 30, 40, 50])\n",
    "\n",
    "# Access the 3rd element (index 2)\n",
    "value = arr[2]\n",
    "print(value)"
   ]
  },
  {
   "cell_type": "markdown",
   "metadata": {},
   "source": [
    "### Accessing Single Values in a 2D Array"
   ]
  },
  {
   "cell_type": "code",
   "execution_count": null,
   "metadata": {},
   "outputs": [
    {
     "name": "stdout",
     "output_type": "stream",
     "text": [
      "[4 5 6]\n",
      "6\n"
     ]
    }
   ],
   "source": [
    "arr = np.array([[1, 2, 3], [4, 5, 6], [7, 8, 9]])\n",
    "\n",
    "# Access the element in the second row(index 1)\n",
    "value1 = arr[1]\n",
    "print(value1)\n",
    "# Access the element in the second row and third column (index [1, 2])\n",
    "value2 = arr[1, 2]\n",
    "print(value2)"
   ]
  },
  {
   "cell_type": "markdown",
   "metadata": {},
   "source": [
    "### Using Negative Indices\n",
    "\n",
    "use negative indices to access elements from the end of the array  "
   ]
  },
  {
   "cell_type": "code",
   "execution_count": 23,
   "metadata": {},
   "outputs": [
    {
     "name": "stdout",
     "output_type": "stream",
     "text": [
      "50\n"
     ]
    }
   ],
   "source": [
    "arr = np.array([10, 20, 30, 40, 50])\n",
    "\n",
    "# Access the last element\n",
    "value = arr[-1]\n",
    "print(value)"
   ]
  },
  {
   "cell_type": "markdown",
   "metadata": {},
   "source": [
    "### Slicing Arrays\n",
    "\n",
    "`array[start:stop:step]`"
   ]
  },
  {
   "cell_type": "code",
   "execution_count": 27,
   "metadata": {},
   "outputs": [
    {
     "name": "stdout",
     "output_type": "stream",
     "text": [
      "[20 30 40]\n",
      "[[1 2 3]\n",
      " [4 5 6]]\n"
     ]
    }
   ],
   "source": [
    "### Slicing a 1D array\n",
    "arr = np.array([10, 20, 30, 40, 50])\n",
    "\n",
    "# Slice the array from index 1 to index 4 (not including index 4)\n",
    "subset = arr[1:4]\n",
    "print(subset)\n",
    "\n",
    "### Slicing a 2D array\n",
    "arr = np.array([[1, 2, 3], [4, 5, 6], [7, 8, 9]])\n",
    "\n",
    "# Slice the array to get the first two rows and the first three columns\n",
    "subset = arr[:2, :3]\n",
    "print(subset)\n"
   ]
  },
  {
   "cell_type": "markdown",
   "metadata": {},
   "source": [
    "### Accessing Multiple Elements Using Arrays of Indices"
   ]
  },
  {
   "cell_type": "code",
   "execution_count": null,
   "metadata": {},
   "outputs": [
    {
     "name": "stdout",
     "output_type": "stream",
     "text": [
      "[10 30 50]\n"
     ]
    },
    {
     "ename": "",
     "evalue": "",
     "output_type": "error",
     "traceback": [
      "\u001b[1;31mThe Kernel crashed while executing code in the current cell or a previous cell. \n",
      "\u001b[1;31mPlease review the code in the cell(s) to identify a possible cause of the failure. \n",
      "\u001b[1;31mClick <a href='https://aka.ms/vscodeJupyterKernelCrash'>here</a> for more info. \n",
      "\u001b[1;31mView Jupyter <a href='command:jupyter.viewOutput'>log</a> for further details."
     ]
    }
   ],
   "source": [
    "arr = np.array([10, 20, 30, 40, 50])\n",
    "\n",
    "# Access multiple elements by index array\n",
    "subset = arr[[0, 2, 4]]\n",
    "print(subset)"
   ]
  },
  {
   "cell_type": "markdown",
   "metadata": {},
   "source": [
    "### Accessing Specific Rows/Columns in 2D Arrays\n",
    "\n",
    "- To access a specific row, use `arr[row_index, :]`.\n",
    "- To access a specific column, use `arr[:, column_index]`."
   ]
  },
  {
   "cell_type": "code",
   "execution_count": 28,
   "metadata": {},
   "outputs": [
    {
     "name": "stdout",
     "output_type": "stream",
     "text": [
      "Second Row: [4 5 6]\n",
      "Third Column: [3 6 9]\n"
     ]
    }
   ],
   "source": [
    "arr = np.array([[1, 2, 3], [4, 5, 6], [7, 8, 9]])\n",
    "\n",
    "# Access the second row\n",
    "row = arr[1, :]\n",
    "print(\"Second Row:\", row)\n",
    "\n",
    "# Access the third column\n",
    "column = arr[:, 2]\n",
    "print(\"Third Column:\", column)"
   ]
  },
  {
   "cell_type": "markdown",
   "metadata": {},
   "source": [
    "## Array Manipulation"
   ]
  },
  {
   "cell_type": "markdown",
   "metadata": {},
   "source": [
    "### np.arange( )\n",
    "\n",
    "`np.arange([start,] stop[, step], dtype=None)` \n",
    "\n",
    "used to generate an array with evenly space values within specific range  \n",
    "\n",
    "- `⁠start` : The starting value (inclusive) ,default is 0.  \n",
    "- `⁠stop` : The end value (exclusive).  \n",
    "- `⁠step` : The step size between each value (default is 1).  \n",
    "- `⁠dtype` : The desired data type of the returned array.  "
   ]
  },
  {
   "cell_type": "code",
   "execution_count": 7,
   "metadata": {},
   "outputs": [
    {
     "name": "stdout",
     "output_type": "stream",
     "text": [
      "[ 1  4  7 10 13 16 19]\n"
     ]
    }
   ],
   "source": [
    "print(np.arange(1,20,3))"
   ]
  },
  {
   "cell_type": "markdown",
   "metadata": {},
   "source": [
    "### np.transpose( )\n",
    "`np.transpose(a, axes=None)`  \n",
    "\n",
    "swapping array's rows and columns  \n",
    "\n",
    "- `a` : The input array you want to transpose.\n",
    "- `axes` (Optional) : to specify the order of axes to permute. If None, it reverses the dimensions by default (i.e., swaps rows and columns for 2D arrays). For higher-dimensional arrays, you can permute the axes in any order."
   ]
  },
  {
   "cell_type": "code",
   "execution_count": 8,
   "metadata": {},
   "outputs": [
    {
     "name": "stdout",
     "output_type": "stream",
     "text": [
      "Original 2D Array:\n",
      "[[1 2 3]\n",
      " [4 5 6]]\n",
      "\n",
      "Transposed 2D Array:\n",
      "[[1 4]\n",
      " [2 5]\n",
      " [3 6]]\n",
      "\n",
      "Original 3D Array:\n",
      "[[[1 2]\n",
      "  [3 4]]\n",
      "\n",
      " [[5 6]\n",
      "  [7 8]]]\n",
      "\n",
      "Transposed 3D Array:\n",
      "[[[1 5]\n",
      "  [3 7]]\n",
      "\n",
      " [[2 6]\n",
      "  [4 8]]]\n",
      "\n",
      "Transposed 3D Array in Specifying Axes:\n",
      "[[[1 5]\n",
      "  [3 7]]\n",
      "\n",
      " [[2 6]\n",
      "  [4 8]]]\n"
     ]
    }
   ],
   "source": [
    "arr_2d = np.array([[1, 2, 3], [4, 5, 6]])\n",
    "\n",
    "transposed_arr_2d = np.transpose(arr_2d)\n",
    "\n",
    "print(\"Original 2D Array:\")\n",
    "print(arr_2d)\n",
    "print(\"\\nTransposed 2D Array:\")\n",
    "print(transposed_arr_2d)\n",
    "\n",
    "arr_3d = np.array([[[1, 2], [3, 4]], [[5, 6], [7, 8]]])\n",
    "\n",
    "transposed_arr_3d_1 = np.transpose(arr_3d)\n",
    "\n",
    "print(\"\\nOriginal 3D Array:\")\n",
    "print(arr_3d)\n",
    "print(\"\\nTransposed 3D Array:\")\n",
    "print(transposed_arr_3d_1)\n",
    "\n",
    "transposed_arr_3d_2 = np.transpose(arr_3d, axes=(2, 1, 0))  #Transpose by permuting axes (axis 0 <-> axis 2)\n",
    "print(\"\\nTransposed 3D Array in Specifying Axes:\")\n",
    "print(transposed_arr_3d_2)"
   ]
  },
  {
   "cell_type": "markdown",
   "metadata": {},
   "source": [
    "### np.reshape(a, newshape, order='C')\n",
    "\n",
    "`np.reshape(a, newshape, order='C')`  \n",
    "\n",
    "change the shape of an existing array without changing its data  \n",
    "\n",
    "- `a` : The input array that want to reshape.\n",
    "- `newshape` : The desired shape of the output array. It can be a tuple of integers or a single integer. One of the dimensions can be ⁠ -1 ⁠, which means it will be inferred based on the size of the array and the other dimensions.\n",
    "- `⁠order` (optional) : This specifies the order in which elements are read from the array. It can be:\n",
    "  - ⁠ `'C'` ⁠(default) : Row-major (C-style) order.\n",
    "  - ⁠ `'F'` ⁠: Column-major (Fortran-style) order."
   ]
  },
  {
   "cell_type": "code",
   "execution_count": 9,
   "metadata": {},
   "outputs": [
    {
     "name": "stdout",
     "output_type": "stream",
     "text": [
      "Single row to multiple row\n",
      "[9 6 5 4 2 3]\n",
      "[[9 6 5]\n",
      " [4 2 3]]\n",
      "[[9 6]\n",
      " [5 4]\n",
      " [2 3]]\n",
      "Multiple row to single row\n",
      "[[3 5 3]\n",
      " [4 8 1]\n",
      " [9 8 3]]\n",
      "[3 5 3 4 8 1 9 8 3]\n",
      "[3 4 9 5 8 8 3 1 3]\n",
      "[[3 5 3]\n",
      " [4 8 1]\n",
      " [9 8 3]]\n"
     ]
    }
   ],
   "source": [
    "origin1 = np.random.randint(1,10,6)\n",
    "origin2 = np.random.randint(1,10,(3,3))\n",
    "reshape1_1 = np.reshape(origin1,(2,3))\n",
    "reshape1_2 = np.reshape(origin1,(3,2))\n",
    "print('Single row to multiple row')\n",
    "print(origin1)\n",
    "print(reshape1_1)\n",
    "print(reshape1_2)\n",
    "\n",
    "reshape2_1 = np.reshape(origin2,9)\n",
    "reshape2_2 = np.reshape(origin2,9,'F')\n",
    "reshape2_3 = np.reshape(reshape2_1,(3,-1))\n",
    "print('Multiple row to single row')\n",
    "print(origin2)\n",
    "print(reshape2_1)\n",
    "print(reshape2_2)\n",
    "\n",
    "print(reshape2_3)\n",
    "\n"
   ]
  },
  {
   "cell_type": "markdown",
   "metadata": {},
   "source": [
    "### array.flatten( )\n",
    "\n",
    "`array.flatten(order='C')`  \n",
    "\n",
    "return a copy of the array collapsed into one dimension  \n",
    "\n",
    "- `order` :\n",
    "    - `'C'` : Row-major (C-style) order, i.e., flattening is done row by row.\n",
    "    - `'F'` : Column-major (Fortran-style) order, i.e., flattening is done column by column.\n",
    "    - `'A'` : Flatten the array in column-major order, unless the array is already in row-major order, in which case it will be flattened row by row.\n",
    "    - `'K'` : Flatten the array in the order the elements occur in memory.\n"
   ]
  },
  {
   "cell_type": "code",
   "execution_count": 10,
   "metadata": {},
   "outputs": [
    {
     "name": "stdout",
     "output_type": "stream",
     "text": [
      "Original Array:\n",
      "[[1 2 3]\n",
      " [4 5 6]]\n",
      "\n",
      "Flattened Array:\n",
      "[1 2 3 4 5 6]\n"
     ]
    }
   ],
   "source": [
    "arr = np.array([[1, 2, 3], [4, 5, 6]])\n",
    "\n",
    "flattened_arr = arr.flatten()\n",
    "\n",
    "print(\"Original Array:\")\n",
    "print(arr)\n",
    "print(\"\\nFlattened Array:\")\n",
    "print(flattened_arr)"
   ]
  },
  {
   "cell_type": "markdown",
   "metadata": {},
   "source": [
    "### np.concatenate( )\n",
    "\n",
    "`np.concatenate((array1, array2, ...), axis=0, out=None)`  \n",
    "\n",
    "used to join two or more arrays along a specified axis  \n",
    "\n",
    "- `arrays` : A sequence of arrays to be concatenated. The arrays must have the same shape, except in the dimension corresponding to the axis along which they are being concatenated.\n",
    "- `axis` : The axis along which the arrays will be joined. The default is axis=0, which means arrays will be stacked row-wise (vertically). If axis=1, arrays will be stacked column-wise (horizontally).\n",
    "- `out` : An optional output array to store the result. If not provided, a new array is returned."
   ]
  },
  {
   "cell_type": "code",
   "execution_count": 11,
   "metadata": {},
   "outputs": [
    {
     "name": "stdout",
     "output_type": "stream",
     "text": [
      "[1 2 3 4 5 6]\n",
      "[[1 2 5 6]\n",
      " [3 4 7 8]]\n",
      "[1 2 3 4 5 6 7 8 9]\n",
      "[[1 2]\n",
      " [3 4]\n",
      " [5 6]\n",
      " [7 8]]\n"
     ]
    }
   ],
   "source": [
    "# Concatenating Along Axis 0 (Vertically)\n",
    "\n",
    "arr1 = np.array([1, 2, 3])\n",
    "arr2 = np.array([4, 5, 6])\n",
    "\n",
    "result = np.concatenate((arr1, arr2))\n",
    "\n",
    "print(result)\n",
    "\n",
    "# Concatenating Along Axis 1 (Horizontally)\n",
    "\n",
    "arr1 = np.array([[1, 2], [3, 4]])\n",
    "arr2 = np.array([[5, 6], [7, 8]])\n",
    "\n",
    "result = np.concatenate((arr1, arr2), axis=1)\n",
    "\n",
    "print(result)\n",
    "\n",
    "# Concatenating Multiple Arrays\n",
    "\n",
    "arr1 = np.array([1, 2, 3])\n",
    "arr2 = np.array([4, 5, 6])\n",
    "arr3 = np.array([7, 8, 9])\n",
    "\n",
    "result = np.concatenate((arr1, arr2, arr3))\n",
    "\n",
    "print(result)\n",
    "\n",
    "# Concatenating Along Axis 0 in Higher Dimensions\n",
    "\n",
    "arr1 = np.array([[1, 2], [3, 4]])\n",
    "arr2 = np.array([[5, 6], [7, 8]])\n",
    "\n",
    "result = np.concatenate((arr1, arr2), axis=0)\n",
    "\n",
    "print(result)\n"
   ]
  },
  {
   "cell_type": "markdown",
   "metadata": {},
   "source": [
    "### np.split( )\n",
    "\n",
    "`np.split(ary, indices_or_sections, axis=0)`  \n",
    "\n",
    "used to split an array into multiple sub-arrays along a specified axis  \n",
    "\n",
    "- `ary` : The input array to be split.\n",
    "- `indices_or_sections` : This can be either:\n",
    "  - An integer N, indicating the number of equal-sized sub-arrays the input array should be split into.\n",
    "  - A list or array of indices, which defines where the array will be split.\n",
    "- `axis` : The axis along which to split the array. The default is axis=0, which means splitting along the rows. If axis=1, it will split along the columns.\n"
   ]
  },
  {
   "cell_type": "code",
   "execution_count": 12,
   "metadata": {},
   "outputs": [
    {
     "name": "stdout",
     "output_type": "stream",
     "text": [
      "[array([1, 2, 3]), array([4, 5, 6]), array([7, 8, 9])]\n",
      "[array([1, 2, 3]), array([4, 5]), array([6, 7, 8, 9])]\n",
      "[array([[1, 2, 3]]), array([[4, 5, 6]]), array([[7, 8, 9]])]\n",
      "[array([[1],\n",
      "       [4],\n",
      "       [7]]), array([[2],\n",
      "       [5],\n",
      "       [8]]), array([[3],\n",
      "       [6],\n",
      "       [9]])]\n"
     ]
    }
   ],
   "source": [
    "# Splitting an Array into Equal Parts\n",
    "\n",
    "arr = np.array([1, 2, 3, 4, 5, 6, 7, 8, 9])\n",
    "\n",
    "split_arr = np.split(arr, 3)\n",
    "\n",
    "print(split_arr)\n",
    "\n",
    "# Splitting at Specific Indices\n",
    "\n",
    "arr = np.array([1, 2, 3, 4, 5, 6, 7, 8, 9])\n",
    "\n",
    "split_arr = np.split(arr, [3, 5])\n",
    "\n",
    "print(split_arr)\n",
    "\n",
    "# Splitting a 2D Array\n",
    "\n",
    "arr = np.array([[1, 2, 3], [4, 5, 6], [7, 8, 9]])\n",
    "\n",
    "split_arr = np.split(arr, 3, axis=0)\n",
    "\n",
    "print(split_arr)\n",
    "\n",
    "# Splitting a 2D Array Along Axis 1 (Columns)\n",
    "\n",
    "arr = np.array([[1, 2, 3], [4, 5, 6], [7, 8, 9]])\n",
    "\n",
    "split_arr = np.split(arr, 3, axis=1)\n",
    "\n",
    "print(split_arr)\n"
   ]
  },
  {
   "cell_type": "markdown",
   "metadata": {},
   "source": [
    "### np.clip( )\n",
    "`np.clip(a, a_min, a_max, out=None)`  \n",
    "\n",
    "used to limit values in the array within a range, the origin values exceed the range will be set to te bound  \n",
    "- `⁠a` : The input array or values.\n",
    "- `⁠a_min` : The minimum value. Values below this will be set to this value.\n",
    "- `⁠a_max` : The maximum value. Values above this will be set to this value.\n",
    "- `⁠out` (optional) : An alternative output array in which to store the result. If not provided, a new array is returned."
   ]
  },
  {
   "cell_type": "code",
   "execution_count": 13,
   "metadata": {},
   "outputs": [
    {
     "name": "stdout",
     "output_type": "stream",
     "text": [
      "[[  1   2   3   4   5   6   7   8   9  10  11  12  13  14  15  16  17  18\n",
      "   19  20  21  22  23  24  25]\n",
      " [ 26  27  28  29  30  31  32  33  34  35  36  37  38  39  40  41  42  43\n",
      "   44  45  46  47  48  49  50]\n",
      " [ 51  52  53  54  55  56  57  58  59  60  61  62  63  64  65  66  67  68\n",
      "   69  70  71  72  73  74  75]\n",
      " [ 76  77  78  79  80  81  82  83  84  85  86  87  88  89  90  91  92  93\n",
      "   94  95  96  97  98  99 100]] \n",
      "================================\n",
      "[[30 30 30 30 30 30 30 30 30 30 30 30 30 30 30 30 30 30 30 30 30 30 30 30\n",
      "  30]\n",
      " [30 30 30 30 30 31 32 33 34 35 36 37 38 39 40 41 42 43 44 45 46 47 48 49\n",
      "  50]\n",
      " [51 52 53 54 55 56 57 58 59 60 61 62 63 64 65 66 67 68 69 70 70 70 70 70\n",
      "  70]\n",
      " [70 70 70 70 70 70 70 70 70 70 70 70 70 70 70 70 70 70 70 70 70 70 70 70\n",
      "  70]] \n",
      "================================\n",
      "[[40 40 40 40 40 40 40 40 40 40 40 40 40 40 40 40 40 40 40 40 40 40 40 40\n",
      "  40]\n",
      " [40 40 40 40 40 40 40 40 40 40 40 40 40 40 40 41 42 43 44 45 46 47 48 49\n",
      "  50]\n",
      " [51 52 53 54 55 56 57 58 59 60 60 60 60 60 60 60 60 60 60 60 60 60 60 60\n",
      "  60]\n",
      " [60 60 60 60 60 60 60 60 60 60 60 60 60 60 60 60 60 60 60 60 60 60 60 60\n",
      "  60]]\n"
     ]
    }
   ],
   "source": [
    "array = np.arange(1,101)\n",
    "array = np.reshape(array,(4,25))\n",
    "print(array,'\\n================================')\n",
    "clipped_array1 = np.clip(array,30,70)\n",
    "print(clipped_array1,'\\n================================')\n",
    "clipped_array2 = np.empty_like(array)\n",
    "np.clip(array,40,60,clipped_array2)\n",
    "print(clipped_array2)"
   ]
  },
  {
   "cell_type": "markdown",
   "metadata": {},
   "source": [
    "### np.random.shuffle( )\n",
    "\n",
    "`np.random.shuffle(arr)`  \n",
    "\n",
    " randomly shuffles the elements of an array in place  "
   ]
  },
  {
   "cell_type": "code",
   "execution_count": 14,
   "metadata": {},
   "outputs": [
    {
     "name": "stdout",
     "output_type": "stream",
     "text": [
      "[4 5 3 2 1]\n"
     ]
    }
   ],
   "source": [
    "arr = np.array([1, 2, 3, 4, 5])\n",
    "\n",
    "np.random.shuffle(arr)\n",
    "\n",
    "print(arr)"
   ]
  },
  {
   "cell_type": "markdown",
   "metadata": {},
   "source": [
    "## np.sin( ) / np.cos( ) / np.tan( ) / np.arcsin( ) / np.arccos( ) / np.arctan( )\n",
    "\n",
    "`np.sin(x, /, out=None, *, where=True, casting='same_kind', order='K', dtype=None, subok=True[, signature])`  \n",
    "\n",
    "- x : Input values in radians (can be a single value, list, or NumPy array).\n",
    "- out (optional) : Alternative output array to store the result.\n",
    "- where (optional) : A condition specifying where to compute the sine values.\n",
    "- dtype (optional) : Specifies the output data type."
   ]
  }
 ],
 "metadata": {
  "kernelspec": {
   "display_name": "base",
   "language": "python",
   "name": "python3"
  },
  "language_info": {
   "codemirror_mode": {
    "name": "ipython",
    "version": 3
   },
   "file_extension": ".py",
   "mimetype": "text/x-python",
   "name": "python",
   "nbconvert_exporter": "python",
   "pygments_lexer": "ipython3",
   "version": "3.12.7"
  }
 },
 "nbformat": 4,
 "nbformat_minor": 2
}
